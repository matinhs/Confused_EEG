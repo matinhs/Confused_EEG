{
  "nbformat": 4,
  "nbformat_minor": 0,
  "metadata": {
    "colab": {
      "provenance": []
    },
    "kernelspec": {
      "name": "python3",
      "display_name": "Python 3"
    },
    "language_info": {
      "name": "python"
    },
    "accelerator": "GPU",
    "gpuClass": "standard"
  },
  "cells": [
    {
      "cell_type": "markdown",
      "source": [
        "# Importing the Libraries"
      ],
      "metadata": {
        "id": "yQNMjAmbgG9f"
      }
    },
    {
      "cell_type": "code",
      "source": [
        "import numpy as np\n",
        "import pandas as pd\n",
        "import tensorflow as tf\n",
        "from sklearn import preprocessing, model_selection\n",
        "from matplotlib import pyplot as plt\n",
        "from tensorflow.keras.preprocessing import timeseries_dataset_from_array\n",
        "from keras.models import Sequential\n",
        "from keras.layers import GRU, LSTM, Bidirectional, Conv1D, GlobalAveragePooling1D, Dense, Activation, Dropout, BatchNormalization, ReLU \n",
        "from keras import regularizers, optimizers\n",
        "from tensorflow.keras.optimizers import SGD\n",
        "from sklearn.metrics import precision_score, recall_score, f1_score, confusion_matrix, accuracy_score, ConfusionMatrixDisplay"
      ],
      "metadata": {
        "id": "S9aPB0JFgKG6"
      },
      "execution_count": 1,
      "outputs": []
    },
    {
      "cell_type": "markdown",
      "source": [
        "# Loading and Preprocessing the Data"
      ],
      "metadata": {
        "id": "INyy1qxxget0"
      }
    },
    {
      "cell_type": "code",
      "source": [
        "df=pd.read_csv('EEG_data.csv')\n",
        "data = pd.read_csv('demographic_info.csv')"
      ],
      "metadata": {
        "id": "2juu8GFEJfbX"
      },
      "execution_count": 12,
      "outputs": []
    },
    {
      "cell_type": "code",
      "source": [
        "data = data.rename(columns = {'subject ID': 'SubjectID'})\n",
        "df = df.merge(data,how = 'inner',on = 'SubjectID')\n",
        "df.head()"
      ],
      "metadata": {
        "colab": {
          "base_uri": "https://localhost:8080/",
          "height": 374
        },
        "id": "8lM63kN4JhFo",
        "outputId": "2832ae8a-fd8f-41d1-d8bc-4ab10f7e5707"
      },
      "execution_count": 13,
      "outputs": [
        {
          "output_type": "execute_result",
          "data": {
            "text/plain": [
              "   SubjectID  VideoID  Attention  Mediation    Raw      Delta     Theta  \\\n",
              "0        0.0      0.0       56.0       43.0  278.0   301963.0   90612.0   \n",
              "1        0.0      0.0       40.0       35.0  -50.0    73787.0   28083.0   \n",
              "2        0.0      0.0       47.0       48.0  101.0   758353.0  383745.0   \n",
              "3        0.0      0.0       47.0       57.0   -5.0  2012240.0  129350.0   \n",
              "4        0.0      0.0       44.0       53.0   -8.0  1005145.0  354328.0   \n",
              "\n",
              "     Alpha1   Alpha2    Beta1     Beta2   Gamma1   Gamma2  predefinedlabel  \\\n",
              "0   33735.0  23991.0  27946.0   45097.0  33228.0   8293.0              0.0   \n",
              "1    1439.0   2240.0   2746.0    3687.0   5293.0   2740.0              0.0   \n",
              "2  201999.0  62107.0  36293.0  130536.0  57243.0  25354.0              0.0   \n",
              "3   61236.0  17084.0  11488.0   62462.0  49960.0  33932.0              0.0   \n",
              "4   37102.0  88881.0  45307.0   99603.0  44790.0  29749.0              0.0   \n",
              "\n",
              "   user-definedlabeln   age    ethnicity  gender  \n",
              "0                 0.0    25  Han Chinese       M  \n",
              "1                 0.0    25  Han Chinese       M  \n",
              "2                 0.0    25  Han Chinese       M  \n",
              "3                 0.0    25  Han Chinese       M  \n",
              "4                 0.0    25  Han Chinese       M  "
            ],
            "text/html": [
              "\n",
              "  <div id=\"df-6f699baa-eade-40f2-936e-f7e4f626e64d\">\n",
              "    <div class=\"colab-df-container\">\n",
              "      <div>\n",
              "<style scoped>\n",
              "    .dataframe tbody tr th:only-of-type {\n",
              "        vertical-align: middle;\n",
              "    }\n",
              "\n",
              "    .dataframe tbody tr th {\n",
              "        vertical-align: top;\n",
              "    }\n",
              "\n",
              "    .dataframe thead th {\n",
              "        text-align: right;\n",
              "    }\n",
              "</style>\n",
              "<table border=\"1\" class=\"dataframe\">\n",
              "  <thead>\n",
              "    <tr style=\"text-align: right;\">\n",
              "      <th></th>\n",
              "      <th>SubjectID</th>\n",
              "      <th>VideoID</th>\n",
              "      <th>Attention</th>\n",
              "      <th>Mediation</th>\n",
              "      <th>Raw</th>\n",
              "      <th>Delta</th>\n",
              "      <th>Theta</th>\n",
              "      <th>Alpha1</th>\n",
              "      <th>Alpha2</th>\n",
              "      <th>Beta1</th>\n",
              "      <th>Beta2</th>\n",
              "      <th>Gamma1</th>\n",
              "      <th>Gamma2</th>\n",
              "      <th>predefinedlabel</th>\n",
              "      <th>user-definedlabeln</th>\n",
              "      <th>age</th>\n",
              "      <th>ethnicity</th>\n",
              "      <th>gender</th>\n",
              "    </tr>\n",
              "  </thead>\n",
              "  <tbody>\n",
              "    <tr>\n",
              "      <th>0</th>\n",
              "      <td>0.0</td>\n",
              "      <td>0.0</td>\n",
              "      <td>56.0</td>\n",
              "      <td>43.0</td>\n",
              "      <td>278.0</td>\n",
              "      <td>301963.0</td>\n",
              "      <td>90612.0</td>\n",
              "      <td>33735.0</td>\n",
              "      <td>23991.0</td>\n",
              "      <td>27946.0</td>\n",
              "      <td>45097.0</td>\n",
              "      <td>33228.0</td>\n",
              "      <td>8293.0</td>\n",
              "      <td>0.0</td>\n",
              "      <td>0.0</td>\n",
              "      <td>25</td>\n",
              "      <td>Han Chinese</td>\n",
              "      <td>M</td>\n",
              "    </tr>\n",
              "    <tr>\n",
              "      <th>1</th>\n",
              "      <td>0.0</td>\n",
              "      <td>0.0</td>\n",
              "      <td>40.0</td>\n",
              "      <td>35.0</td>\n",
              "      <td>-50.0</td>\n",
              "      <td>73787.0</td>\n",
              "      <td>28083.0</td>\n",
              "      <td>1439.0</td>\n",
              "      <td>2240.0</td>\n",
              "      <td>2746.0</td>\n",
              "      <td>3687.0</td>\n",
              "      <td>5293.0</td>\n",
              "      <td>2740.0</td>\n",
              "      <td>0.0</td>\n",
              "      <td>0.0</td>\n",
              "      <td>25</td>\n",
              "      <td>Han Chinese</td>\n",
              "      <td>M</td>\n",
              "    </tr>\n",
              "    <tr>\n",
              "      <th>2</th>\n",
              "      <td>0.0</td>\n",
              "      <td>0.0</td>\n",
              "      <td>47.0</td>\n",
              "      <td>48.0</td>\n",
              "      <td>101.0</td>\n",
              "      <td>758353.0</td>\n",
              "      <td>383745.0</td>\n",
              "      <td>201999.0</td>\n",
              "      <td>62107.0</td>\n",
              "      <td>36293.0</td>\n",
              "      <td>130536.0</td>\n",
              "      <td>57243.0</td>\n",
              "      <td>25354.0</td>\n",
              "      <td>0.0</td>\n",
              "      <td>0.0</td>\n",
              "      <td>25</td>\n",
              "      <td>Han Chinese</td>\n",
              "      <td>M</td>\n",
              "    </tr>\n",
              "    <tr>\n",
              "      <th>3</th>\n",
              "      <td>0.0</td>\n",
              "      <td>0.0</td>\n",
              "      <td>47.0</td>\n",
              "      <td>57.0</td>\n",
              "      <td>-5.0</td>\n",
              "      <td>2012240.0</td>\n",
              "      <td>129350.0</td>\n",
              "      <td>61236.0</td>\n",
              "      <td>17084.0</td>\n",
              "      <td>11488.0</td>\n",
              "      <td>62462.0</td>\n",
              "      <td>49960.0</td>\n",
              "      <td>33932.0</td>\n",
              "      <td>0.0</td>\n",
              "      <td>0.0</td>\n",
              "      <td>25</td>\n",
              "      <td>Han Chinese</td>\n",
              "      <td>M</td>\n",
              "    </tr>\n",
              "    <tr>\n",
              "      <th>4</th>\n",
              "      <td>0.0</td>\n",
              "      <td>0.0</td>\n",
              "      <td>44.0</td>\n",
              "      <td>53.0</td>\n",
              "      <td>-8.0</td>\n",
              "      <td>1005145.0</td>\n",
              "      <td>354328.0</td>\n",
              "      <td>37102.0</td>\n",
              "      <td>88881.0</td>\n",
              "      <td>45307.0</td>\n",
              "      <td>99603.0</td>\n",
              "      <td>44790.0</td>\n",
              "      <td>29749.0</td>\n",
              "      <td>0.0</td>\n",
              "      <td>0.0</td>\n",
              "      <td>25</td>\n",
              "      <td>Han Chinese</td>\n",
              "      <td>M</td>\n",
              "    </tr>\n",
              "  </tbody>\n",
              "</table>\n",
              "</div>\n",
              "      <button class=\"colab-df-convert\" onclick=\"convertToInteractive('df-6f699baa-eade-40f2-936e-f7e4f626e64d')\"\n",
              "              title=\"Convert this dataframe to an interactive table.\"\n",
              "              style=\"display:none;\">\n",
              "        \n",
              "  <svg xmlns=\"http://www.w3.org/2000/svg\" height=\"24px\"viewBox=\"0 0 24 24\"\n",
              "       width=\"24px\">\n",
              "    <path d=\"M0 0h24v24H0V0z\" fill=\"none\"/>\n",
              "    <path d=\"M18.56 5.44l.94 2.06.94-2.06 2.06-.94-2.06-.94-.94-2.06-.94 2.06-2.06.94zm-11 1L8.5 8.5l.94-2.06 2.06-.94-2.06-.94L8.5 2.5l-.94 2.06-2.06.94zm10 10l.94 2.06.94-2.06 2.06-.94-2.06-.94-.94-2.06-.94 2.06-2.06.94z\"/><path d=\"M17.41 7.96l-1.37-1.37c-.4-.4-.92-.59-1.43-.59-.52 0-1.04.2-1.43.59L10.3 9.45l-7.72 7.72c-.78.78-.78 2.05 0 2.83L4 21.41c.39.39.9.59 1.41.59.51 0 1.02-.2 1.41-.59l7.78-7.78 2.81-2.81c.8-.78.8-2.07 0-2.86zM5.41 20L4 18.59l7.72-7.72 1.47 1.35L5.41 20z\"/>\n",
              "  </svg>\n",
              "      </button>\n",
              "      \n",
              "  <style>\n",
              "    .colab-df-container {\n",
              "      display:flex;\n",
              "      flex-wrap:wrap;\n",
              "      gap: 12px;\n",
              "    }\n",
              "\n",
              "    .colab-df-convert {\n",
              "      background-color: #E8F0FE;\n",
              "      border: none;\n",
              "      border-radius: 50%;\n",
              "      cursor: pointer;\n",
              "      display: none;\n",
              "      fill: #1967D2;\n",
              "      height: 32px;\n",
              "      padding: 0 0 0 0;\n",
              "      width: 32px;\n",
              "    }\n",
              "\n",
              "    .colab-df-convert:hover {\n",
              "      background-color: #E2EBFA;\n",
              "      box-shadow: 0px 1px 2px rgba(60, 64, 67, 0.3), 0px 1px 3px 1px rgba(60, 64, 67, 0.15);\n",
              "      fill: #174EA6;\n",
              "    }\n",
              "\n",
              "    [theme=dark] .colab-df-convert {\n",
              "      background-color: #3B4455;\n",
              "      fill: #D2E3FC;\n",
              "    }\n",
              "\n",
              "    [theme=dark] .colab-df-convert:hover {\n",
              "      background-color: #434B5C;\n",
              "      box-shadow: 0px 1px 3px 1px rgba(0, 0, 0, 0.15);\n",
              "      filter: drop-shadow(0px 1px 2px rgba(0, 0, 0, 0.3));\n",
              "      fill: #FFFFFF;\n",
              "    }\n",
              "  </style>\n",
              "\n",
              "      <script>\n",
              "        const buttonEl =\n",
              "          document.querySelector('#df-6f699baa-eade-40f2-936e-f7e4f626e64d button.colab-df-convert');\n",
              "        buttonEl.style.display =\n",
              "          google.colab.kernel.accessAllowed ? 'block' : 'none';\n",
              "\n",
              "        async function convertToInteractive(key) {\n",
              "          const element = document.querySelector('#df-6f699baa-eade-40f2-936e-f7e4f626e64d');\n",
              "          const dataTable =\n",
              "            await google.colab.kernel.invokeFunction('convertToInteractive',\n",
              "                                                     [key], {});\n",
              "          if (!dataTable) return;\n",
              "\n",
              "          const docLinkHtml = 'Like what you see? Visit the ' +\n",
              "            '<a target=\"_blank\" href=https://colab.research.google.com/notebooks/data_table.ipynb>data table notebook</a>'\n",
              "            + ' to learn more about interactive tables.';\n",
              "          element.innerHTML = '';\n",
              "          dataTable['output_type'] = 'display_data';\n",
              "          await google.colab.output.renderOutput(dataTable, element);\n",
              "          const docLink = document.createElement('div');\n",
              "          docLink.innerHTML = docLinkHtml;\n",
              "          element.appendChild(docLink);\n",
              "        }\n",
              "      </script>\n",
              "    </div>\n",
              "  </div>\n",
              "  "
            ]
          },
          "metadata": {},
          "execution_count": 13
        }
      ]
    },
    {
      "cell_type": "code",
      "source": [
        "Data = df.copy()"
      ],
      "metadata": {
        "id": "h91FhhqTKUWk"
      },
      "execution_count": 14,
      "outputs": []
    },
    {
      "cell_type": "code",
      "source": [
        "Data.pop('SubjectID')\n",
        "Data.pop('VideoID')\n",
        "Data.pop('predefinedlabel')\n",
        "Data.pop('user-definedlabeln')\n",
        "Data.pop(' age')\n",
        "Data.pop(' ethnicity')\n",
        "Data.pop(' gender')\n",
        "Data"
      ],
      "metadata": {
        "colab": {
          "base_uri": "https://localhost:8080/",
          "height": 424
        },
        "id": "ChF0-YNoKzVB",
        "outputId": "85a81124-a131-4b4a-f7db-2fb535810e31"
      },
      "execution_count": 15,
      "outputs": [
        {
          "output_type": "execute_result",
          "data": {
            "text/plain": [
              "       Attention  Mediation    Raw      Delta      Theta    Alpha1    Alpha2  \\\n",
              "0           56.0       43.0  278.0   301963.0    90612.0   33735.0   23991.0   \n",
              "1           40.0       35.0  -50.0    73787.0    28083.0    1439.0    2240.0   \n",
              "2           47.0       48.0  101.0   758353.0   383745.0  201999.0   62107.0   \n",
              "3           47.0       57.0   -5.0  2012240.0   129350.0   61236.0   17084.0   \n",
              "4           44.0       53.0   -8.0  1005145.0   354328.0   37102.0   88881.0   \n",
              "...          ...        ...    ...        ...        ...       ...       ...   \n",
              "12806       64.0       38.0  -39.0   127574.0     9951.0     709.0   21732.0   \n",
              "12807       61.0       35.0 -275.0   323061.0   797464.0  153171.0  145805.0   \n",
              "12808       60.0       29.0 -426.0   680989.0   154296.0   40068.0   39122.0   \n",
              "12809       60.0       29.0  -84.0   366269.0    27346.0   11444.0    9932.0   \n",
              "12810       64.0       29.0  -49.0  1164555.0  1184366.0   50014.0  124208.0   \n",
              "\n",
              "         Beta1     Beta2   Gamma1   Gamma2  \n",
              "0      27946.0   45097.0  33228.0   8293.0  \n",
              "1       2746.0    3687.0   5293.0   2740.0  \n",
              "2      36293.0  130536.0  57243.0  25354.0  \n",
              "3      11488.0   62462.0  49960.0  33932.0  \n",
              "4      45307.0   99603.0  44790.0  29749.0  \n",
              "...        ...       ...      ...      ...  \n",
              "12806   3872.0   39728.0   2598.0    960.0  \n",
              "12807  39829.0  571280.0  36574.0  10010.0  \n",
              "12808  10966.0   26975.0  20427.0   2024.0  \n",
              "12809   1939.0    3283.0  12323.0   1764.0  \n",
              "12810  10634.0  445383.0  22133.0   4482.0  \n",
              "\n",
              "[12811 rows x 11 columns]"
            ],
            "text/html": [
              "\n",
              "  <div id=\"df-17023821-c57d-4b36-a262-c69bddc6e77e\">\n",
              "    <div class=\"colab-df-container\">\n",
              "      <div>\n",
              "<style scoped>\n",
              "    .dataframe tbody tr th:only-of-type {\n",
              "        vertical-align: middle;\n",
              "    }\n",
              "\n",
              "    .dataframe tbody tr th {\n",
              "        vertical-align: top;\n",
              "    }\n",
              "\n",
              "    .dataframe thead th {\n",
              "        text-align: right;\n",
              "    }\n",
              "</style>\n",
              "<table border=\"1\" class=\"dataframe\">\n",
              "  <thead>\n",
              "    <tr style=\"text-align: right;\">\n",
              "      <th></th>\n",
              "      <th>Attention</th>\n",
              "      <th>Mediation</th>\n",
              "      <th>Raw</th>\n",
              "      <th>Delta</th>\n",
              "      <th>Theta</th>\n",
              "      <th>Alpha1</th>\n",
              "      <th>Alpha2</th>\n",
              "      <th>Beta1</th>\n",
              "      <th>Beta2</th>\n",
              "      <th>Gamma1</th>\n",
              "      <th>Gamma2</th>\n",
              "    </tr>\n",
              "  </thead>\n",
              "  <tbody>\n",
              "    <tr>\n",
              "      <th>0</th>\n",
              "      <td>56.0</td>\n",
              "      <td>43.0</td>\n",
              "      <td>278.0</td>\n",
              "      <td>301963.0</td>\n",
              "      <td>90612.0</td>\n",
              "      <td>33735.0</td>\n",
              "      <td>23991.0</td>\n",
              "      <td>27946.0</td>\n",
              "      <td>45097.0</td>\n",
              "      <td>33228.0</td>\n",
              "      <td>8293.0</td>\n",
              "    </tr>\n",
              "    <tr>\n",
              "      <th>1</th>\n",
              "      <td>40.0</td>\n",
              "      <td>35.0</td>\n",
              "      <td>-50.0</td>\n",
              "      <td>73787.0</td>\n",
              "      <td>28083.0</td>\n",
              "      <td>1439.0</td>\n",
              "      <td>2240.0</td>\n",
              "      <td>2746.0</td>\n",
              "      <td>3687.0</td>\n",
              "      <td>5293.0</td>\n",
              "      <td>2740.0</td>\n",
              "    </tr>\n",
              "    <tr>\n",
              "      <th>2</th>\n",
              "      <td>47.0</td>\n",
              "      <td>48.0</td>\n",
              "      <td>101.0</td>\n",
              "      <td>758353.0</td>\n",
              "      <td>383745.0</td>\n",
              "      <td>201999.0</td>\n",
              "      <td>62107.0</td>\n",
              "      <td>36293.0</td>\n",
              "      <td>130536.0</td>\n",
              "      <td>57243.0</td>\n",
              "      <td>25354.0</td>\n",
              "    </tr>\n",
              "    <tr>\n",
              "      <th>3</th>\n",
              "      <td>47.0</td>\n",
              "      <td>57.0</td>\n",
              "      <td>-5.0</td>\n",
              "      <td>2012240.0</td>\n",
              "      <td>129350.0</td>\n",
              "      <td>61236.0</td>\n",
              "      <td>17084.0</td>\n",
              "      <td>11488.0</td>\n",
              "      <td>62462.0</td>\n",
              "      <td>49960.0</td>\n",
              "      <td>33932.0</td>\n",
              "    </tr>\n",
              "    <tr>\n",
              "      <th>4</th>\n",
              "      <td>44.0</td>\n",
              "      <td>53.0</td>\n",
              "      <td>-8.0</td>\n",
              "      <td>1005145.0</td>\n",
              "      <td>354328.0</td>\n",
              "      <td>37102.0</td>\n",
              "      <td>88881.0</td>\n",
              "      <td>45307.0</td>\n",
              "      <td>99603.0</td>\n",
              "      <td>44790.0</td>\n",
              "      <td>29749.0</td>\n",
              "    </tr>\n",
              "    <tr>\n",
              "      <th>...</th>\n",
              "      <td>...</td>\n",
              "      <td>...</td>\n",
              "      <td>...</td>\n",
              "      <td>...</td>\n",
              "      <td>...</td>\n",
              "      <td>...</td>\n",
              "      <td>...</td>\n",
              "      <td>...</td>\n",
              "      <td>...</td>\n",
              "      <td>...</td>\n",
              "      <td>...</td>\n",
              "    </tr>\n",
              "    <tr>\n",
              "      <th>12806</th>\n",
              "      <td>64.0</td>\n",
              "      <td>38.0</td>\n",
              "      <td>-39.0</td>\n",
              "      <td>127574.0</td>\n",
              "      <td>9951.0</td>\n",
              "      <td>709.0</td>\n",
              "      <td>21732.0</td>\n",
              "      <td>3872.0</td>\n",
              "      <td>39728.0</td>\n",
              "      <td>2598.0</td>\n",
              "      <td>960.0</td>\n",
              "    </tr>\n",
              "    <tr>\n",
              "      <th>12807</th>\n",
              "      <td>61.0</td>\n",
              "      <td>35.0</td>\n",
              "      <td>-275.0</td>\n",
              "      <td>323061.0</td>\n",
              "      <td>797464.0</td>\n",
              "      <td>153171.0</td>\n",
              "      <td>145805.0</td>\n",
              "      <td>39829.0</td>\n",
              "      <td>571280.0</td>\n",
              "      <td>36574.0</td>\n",
              "      <td>10010.0</td>\n",
              "    </tr>\n",
              "    <tr>\n",
              "      <th>12808</th>\n",
              "      <td>60.0</td>\n",
              "      <td>29.0</td>\n",
              "      <td>-426.0</td>\n",
              "      <td>680989.0</td>\n",
              "      <td>154296.0</td>\n",
              "      <td>40068.0</td>\n",
              "      <td>39122.0</td>\n",
              "      <td>10966.0</td>\n",
              "      <td>26975.0</td>\n",
              "      <td>20427.0</td>\n",
              "      <td>2024.0</td>\n",
              "    </tr>\n",
              "    <tr>\n",
              "      <th>12809</th>\n",
              "      <td>60.0</td>\n",
              "      <td>29.0</td>\n",
              "      <td>-84.0</td>\n",
              "      <td>366269.0</td>\n",
              "      <td>27346.0</td>\n",
              "      <td>11444.0</td>\n",
              "      <td>9932.0</td>\n",
              "      <td>1939.0</td>\n",
              "      <td>3283.0</td>\n",
              "      <td>12323.0</td>\n",
              "      <td>1764.0</td>\n",
              "    </tr>\n",
              "    <tr>\n",
              "      <th>12810</th>\n",
              "      <td>64.0</td>\n",
              "      <td>29.0</td>\n",
              "      <td>-49.0</td>\n",
              "      <td>1164555.0</td>\n",
              "      <td>1184366.0</td>\n",
              "      <td>50014.0</td>\n",
              "      <td>124208.0</td>\n",
              "      <td>10634.0</td>\n",
              "      <td>445383.0</td>\n",
              "      <td>22133.0</td>\n",
              "      <td>4482.0</td>\n",
              "    </tr>\n",
              "  </tbody>\n",
              "</table>\n",
              "<p>12811 rows × 11 columns</p>\n",
              "</div>\n",
              "      <button class=\"colab-df-convert\" onclick=\"convertToInteractive('df-17023821-c57d-4b36-a262-c69bddc6e77e')\"\n",
              "              title=\"Convert this dataframe to an interactive table.\"\n",
              "              style=\"display:none;\">\n",
              "        \n",
              "  <svg xmlns=\"http://www.w3.org/2000/svg\" height=\"24px\"viewBox=\"0 0 24 24\"\n",
              "       width=\"24px\">\n",
              "    <path d=\"M0 0h24v24H0V0z\" fill=\"none\"/>\n",
              "    <path d=\"M18.56 5.44l.94 2.06.94-2.06 2.06-.94-2.06-.94-.94-2.06-.94 2.06-2.06.94zm-11 1L8.5 8.5l.94-2.06 2.06-.94-2.06-.94L8.5 2.5l-.94 2.06-2.06.94zm10 10l.94 2.06.94-2.06 2.06-.94-2.06-.94-.94-2.06-.94 2.06-2.06.94z\"/><path d=\"M17.41 7.96l-1.37-1.37c-.4-.4-.92-.59-1.43-.59-.52 0-1.04.2-1.43.59L10.3 9.45l-7.72 7.72c-.78.78-.78 2.05 0 2.83L4 21.41c.39.39.9.59 1.41.59.51 0 1.02-.2 1.41-.59l7.78-7.78 2.81-2.81c.8-.78.8-2.07 0-2.86zM5.41 20L4 18.59l7.72-7.72 1.47 1.35L5.41 20z\"/>\n",
              "  </svg>\n",
              "      </button>\n",
              "      \n",
              "  <style>\n",
              "    .colab-df-container {\n",
              "      display:flex;\n",
              "      flex-wrap:wrap;\n",
              "      gap: 12px;\n",
              "    }\n",
              "\n",
              "    .colab-df-convert {\n",
              "      background-color: #E8F0FE;\n",
              "      border: none;\n",
              "      border-radius: 50%;\n",
              "      cursor: pointer;\n",
              "      display: none;\n",
              "      fill: #1967D2;\n",
              "      height: 32px;\n",
              "      padding: 0 0 0 0;\n",
              "      width: 32px;\n",
              "    }\n",
              "\n",
              "    .colab-df-convert:hover {\n",
              "      background-color: #E2EBFA;\n",
              "      box-shadow: 0px 1px 2px rgba(60, 64, 67, 0.3), 0px 1px 3px 1px rgba(60, 64, 67, 0.15);\n",
              "      fill: #174EA6;\n",
              "    }\n",
              "\n",
              "    [theme=dark] .colab-df-convert {\n",
              "      background-color: #3B4455;\n",
              "      fill: #D2E3FC;\n",
              "    }\n",
              "\n",
              "    [theme=dark] .colab-df-convert:hover {\n",
              "      background-color: #434B5C;\n",
              "      box-shadow: 0px 1px 3px 1px rgba(0, 0, 0, 0.15);\n",
              "      filter: drop-shadow(0px 1px 2px rgba(0, 0, 0, 0.3));\n",
              "      fill: #FFFFFF;\n",
              "    }\n",
              "  </style>\n",
              "\n",
              "      <script>\n",
              "        const buttonEl =\n",
              "          document.querySelector('#df-17023821-c57d-4b36-a262-c69bddc6e77e button.colab-df-convert');\n",
              "        buttonEl.style.display =\n",
              "          google.colab.kernel.accessAllowed ? 'block' : 'none';\n",
              "\n",
              "        async function convertToInteractive(key) {\n",
              "          const element = document.querySelector('#df-17023821-c57d-4b36-a262-c69bddc6e77e');\n",
              "          const dataTable =\n",
              "            await google.colab.kernel.invokeFunction('convertToInteractive',\n",
              "                                                     [key], {});\n",
              "          if (!dataTable) return;\n",
              "\n",
              "          const docLinkHtml = 'Like what you see? Visit the ' +\n",
              "            '<a target=\"_blank\" href=https://colab.research.google.com/notebooks/data_table.ipynb>data table notebook</a>'\n",
              "            + ' to learn more about interactive tables.';\n",
              "          element.innerHTML = '';\n",
              "          dataTable['output_type'] = 'display_data';\n",
              "          await google.colab.output.renderOutput(dataTable, element);\n",
              "          const docLink = document.createElement('div');\n",
              "          docLink.innerHTML = docLinkHtml;\n",
              "          element.appendChild(docLink);\n",
              "        }\n",
              "      </script>\n",
              "    </div>\n",
              "  </div>\n",
              "  "
            ]
          },
          "metadata": {},
          "execution_count": 15
        }
      ]
    },
    {
      "cell_type": "markdown",
      "source": [
        "Normalizing"
      ],
      "metadata": {
        "id": "tkhI63TeolHy"
      }
    },
    {
      "cell_type": "code",
      "source": [
        "Data[\"Attention\"] = Data[\"Attention\"] / Data[\"Attention\"].abs().max()\n",
        "Data[\"Mediation\"] = Data[\"Mediation\"] / Data[\"Mediation\"].abs().max()\n",
        "Data[\"Raw\"] = Data[\"Raw\"] / Data[\"Raw\"].abs().max()"
      ],
      "metadata": {
        "id": "p0ND7_dcLnSb"
      },
      "execution_count": 16,
      "outputs": []
    },
    {
      "cell_type": "code",
      "source": [
        "x = np.array(Data)\n",
        "y = np.array(df['user-definedlabeln'])"
      ],
      "metadata": {
        "id": "gf4a043fLd-_"
      },
      "execution_count": 17,
      "outputs": []
    },
    {
      "cell_type": "markdown",
      "source": [
        "Splitting"
      ],
      "metadata": {
        "id": "2K5T-iEzomxq"
      }
    },
    {
      "cell_type": "code",
      "source": [
        "x_train = x[:10000, :]\n",
        "y_train = y[:10000]\n",
        "x_val = x[10000:11405, :]\n",
        "y_val = y[10000:11405]\n",
        "x_test = x[11405:, :]\n",
        "y_test = y[11405:]"
      ],
      "metadata": {
        "id": "3GgBGHxdLlqU"
      },
      "execution_count": 18,
      "outputs": []
    },
    {
      "cell_type": "code",
      "source": [
        "train = timeseries_dataset_from_array(x_train, sequence_length=1, batch_size=64, targets=y_train)\n",
        "test = timeseries_dataset_from_array(x_test, sequence_length=1, targets=y_test)\n",
        "val = timeseries_dataset_from_array(x_val, sequence_length=1, targets=y_val)"
      ],
      "metadata": {
        "id": "8g7M0_NvNDTa"
      },
      "execution_count": 19,
      "outputs": []
    },
    {
      "cell_type": "markdown",
      "source": [
        "# Implementing the Network and Training"
      ],
      "metadata": {
        "id": "oy0Q_4IcgkDf"
      }
    },
    {
      "cell_type": "code",
      "source": [
        "model = Sequential()\n",
        "model.add(Conv1D(filters=32, kernel_size=5, strides=1, padding=\"causal\", kernel_regularizer=regularizers.l2(1e-5)))\n",
        "model.add(BatchNormalization())\n",
        "model.add(ReLU())\n",
        "model.add(Dropout(0.1))\n",
        "model.add(Conv1D(filters=64, kernel_size=5, strides=1, padding=\"causal\", kernel_regularizer=regularizers.l2(1e-5)))\n",
        "model.add(BatchNormalization())\n",
        "model.add(ReLU())\n",
        "model.add(Dropout(0.2))\n",
        "model.add(Conv1D(filters=128, kernel_size=5, strides=1, padding=\"causal\", kernel_regularizer=regularizers.l2(1e-5)))\n",
        "model.add(BatchNormalization())\n",
        "model.add(ReLU())\n",
        "model.add(Dropout(0.2))\n",
        "model.add(Bidirectional(LSTM(32, return_sequences=True, kernel_regularizer=regularizers.l2(1e-5))))\n",
        "model.add(Dropout(0.3))\n",
        "model.add(Bidirectional(LSTM(32, return_sequences=True, kernel_regularizer=regularizers.l2(1e-5))))\n",
        "model.add(GlobalAveragePooling1D())\n",
        "model.add(Dense(32, kernel_regularizer=regularizers.l2(1e-5)))\n",
        "model.add(BatchNormalization())\n",
        "model.add(ReLU())\n",
        "model.add(Dropout(0.3))\n",
        "model.add(Dense(64, kernel_regularizer=regularizers.l2(1e-5)))\n",
        "model.add(BatchNormalization())\n",
        "model.add(ReLU())\n",
        "model.add(Dense(1, activation=\"sigmoid\"))"
      ],
      "metadata": {
        "id": "uBVuKHNGNQB4"
      },
      "execution_count": 20,
      "outputs": []
    },
    {
      "cell_type": "code",
      "source": [
        "tf.keras.utils.plot_model(model)"
      ],
      "metadata": {
        "colab": {
          "base_uri": "https://localhost:8080/",
          "height": 1000
        },
        "id": "Q5T6AsKsXL75",
        "outputId": "948cde82-6183-4f57-ebee-4fa5260d4daa"
      },
      "execution_count": 28,
      "outputs": [
        {
          "output_type": "execute_result",
          "data": {
            "image/png": "[encoded data removed]",
            "text/plain": [
              "<IPython.core.display.Image object>"
            ]
          },
          "metadata": {},
          "execution_count": 28
        }
      ]
    },
    {
      "cell_type": "code",
      "source": [
        "lr_schedule = tf.keras.callbacks.LearningRateScheduler(\n",
        "    lambda epoch: 1e-8 * 10**(epoch / 4))"
      ],
      "metadata": {
        "id": "y_L0fZldQNA5"
      },
      "execution_count": 22,
      "outputs": []
    },
    {
      "cell_type": "code",
      "source": [
        "model.compile(optimizer=SGD(learning_rate=1e-8, momentum=0.9), loss=['binary_crossentropy'], metrics=['accuracy'])"
      ],
      "metadata": {
        "id": "GM8-TED7QOnr"
      },
      "execution_count": 23,
      "outputs": []
    },
    {
      "cell_type": "markdown",
      "source": [
        "First we will find the optimal Learning Rate"
      ],
      "metadata": {
        "id": "EbOlikv7TDSz"
      }
    },
    {
      "cell_type": "code",
      "source": [
        "history = model.fit(train, epochs=25, callbacks=[lr_schedule])"
      ],
      "metadata": {
        "colab": {
          "base_uri": "https://localhost:8080/"
        },
        "id": "OyPWD14pQb0B",
        "outputId": "c4403a1f-aedb-4883-90a3-13ee701763b9"
      },
      "execution_count": 25,
      "outputs": [
        {
          "output_type": "stream",
          "name": "stdout",
          "text": [
            "Epoch 1/25\n",
            "157/157 [==============================] - 19s 19ms/step - loss: 0.9937 - accuracy: 0.4615 - lr: 1.0000e-08\n",
            "Epoch 2/25\n",
            "157/157 [==============================] - 3s 19ms/step - loss: 0.9939 - accuracy: 0.4625 - lr: 1.7783e-08\n",
            "Epoch 3/25\n",
            "157/157 [==============================] - 3s 18ms/step - loss: 0.9947 - accuracy: 0.4587 - lr: 3.1623e-08\n",
            "Epoch 4/25\n",
            "157/157 [==============================] - 3s 18ms/step - loss: 0.9921 - accuracy: 0.4599 - lr: 5.6234e-08\n",
            "Epoch 5/25\n",
            "157/157 [==============================] - 3s 19ms/step - loss: 0.9924 - accuracy: 0.4618 - lr: 1.0000e-07\n",
            "Epoch 6/25\n",
            "157/157 [==============================] - 3s 18ms/step - loss: 0.9938 - accuracy: 0.4618 - lr: 1.7783e-07\n",
            "Epoch 7/25\n",
            "157/157 [==============================] - 3s 18ms/step - loss: 0.9928 - accuracy: 0.4607 - lr: 3.1623e-07\n",
            "Epoch 8/25\n",
            "157/157 [==============================] - 3s 18ms/step - loss: 0.9923 - accuracy: 0.4624 - lr: 5.6234e-07\n",
            "Epoch 9/25\n",
            "157/157 [==============================] - 3s 18ms/step - loss: 0.9920 - accuracy: 0.4608 - lr: 1.0000e-06\n",
            "Epoch 10/25\n",
            "157/157 [==============================] - 3s 18ms/step - loss: 0.9838 - accuracy: 0.4624 - lr: 1.7783e-06\n",
            "Epoch 11/25\n",
            "157/157 [==============================] - 3s 18ms/step - loss: 0.9835 - accuracy: 0.4628 - lr: 3.1623e-06\n",
            "Epoch 12/25\n",
            "157/157 [==============================] - 3s 18ms/step - loss: 0.9769 - accuracy: 0.4640 - lr: 5.6234e-06\n",
            "Epoch 13/25\n",
            "157/157 [==============================] - 3s 18ms/step - loss: 0.9639 - accuracy: 0.4622 - lr: 1.0000e-05\n",
            "Epoch 14/25\n",
            "157/157 [==============================] - 3s 19ms/step - loss: 0.9403 - accuracy: 0.4625 - lr: 1.7783e-05\n",
            "Epoch 15/25\n",
            "157/157 [==============================] - 3s 18ms/step - loss: 0.9123 - accuracy: 0.4658 - lr: 3.1623e-05\n",
            "Epoch 16/25\n",
            "157/157 [==============================] - 3s 18ms/step - loss: 0.8626 - accuracy: 0.4674 - lr: 5.6234e-05\n",
            "Epoch 17/25\n",
            "157/157 [==============================] - 3s 18ms/step - loss: 0.8052 - accuracy: 0.4711 - lr: 1.0000e-04\n",
            "Epoch 18/25\n",
            "157/157 [==============================] - 3s 18ms/step - loss: 0.7596 - accuracy: 0.4889 - lr: 1.7783e-04\n",
            "Epoch 19/25\n",
            "157/157 [==============================] - 3s 19ms/step - loss: 0.7341 - accuracy: 0.5000 - lr: 3.1623e-04\n",
            "Epoch 20/25\n",
            "157/157 [==============================] - 3s 18ms/step - loss: 0.7246 - accuracy: 0.5085 - lr: 5.6234e-04\n",
            "Epoch 21/25\n",
            "157/157 [==============================] - 3s 18ms/step - loss: 0.7261 - accuracy: 0.4986 - lr: 0.0010\n",
            "Epoch 22/25\n",
            "157/157 [==============================] - 3s 18ms/step - loss: 0.7230 - accuracy: 0.5115 - lr: 0.0018\n",
            "Epoch 23/25\n",
            "157/157 [==============================] - 3s 18ms/step - loss: 0.7280 - accuracy: 0.5184 - lr: 0.0032\n",
            "Epoch 24/25\n",
            "157/157 [==============================] - 3s 18ms/step - loss: 0.7401 - accuracy: 0.5330 - lr: 0.0056\n",
            "Epoch 25/25\n",
            "157/157 [==============================] - 3s 18ms/step - loss: 0.7578 - accuracy: 0.5229 - lr: 0.0100\n"
          ]
        }
      ]
    },
    {
      "cell_type": "code",
      "source": [
        "plt.semilogx(history.history[\"lr\"], history.history[\"loss\"])\n",
        "plt.axis([1e-8, 0.01, 0.7, 0.9])\n",
        "plt.show()"
      ],
      "metadata": {
        "colab": {
          "base_uri": "https://localhost:8080/",
          "height": 273
        },
        "id": "goRGUfABQfdT",
        "outputId": "61cc3a58-07ab-4dcb-ec98-670cbf3c09d7"
      },
      "execution_count": 27,
      "outputs": [
        {
          "output_type": "display_data",
          "data": {
            "text/plain": [
              "<Figure size 432x288 with 1 Axes>"
            ],
            "image/png": "[encoded data removed]"
          },
          "metadata": {
            "needs_background": "light"
          }
        }
      ]
    },
    {
      "cell_type": "code",
      "source": [
        "model.compile(optimizer=SGD(learning_rate=5.6e-4, momentum=0.9), loss=['binary_crossentropy'], metrics=['accuracy'])"
      ],
      "metadata": {
        "id": "K27y_f5VQhua"
      },
      "execution_count": 32,
      "outputs": []
    },
    {
      "cell_type": "code",
      "source": [
        "history = model.fit(train, epochs=100, validation_data=val)"
      ],
      "metadata": {
        "colab": {
          "base_uri": "https://localhost:8080/"
        },
        "id": "o6q9xeq2QmZO",
        "outputId": "2597d554-9e8b-4561-a7e0-9b66e9cdeb87"
      },
      "execution_count": 33,
      "outputs": [
        {
          "output_type": "stream",
          "name": "stdout",
          "text": [
            "Epoch 1/100\n",
            "157/157 [==============================] - 11s 30ms/step - loss: 0.7271 - accuracy: 0.5402 - val_loss: 0.8121 - val_accuracy: 0.2776\n",
            "Epoch 2/100\n",
            "157/157 [==============================] - 3s 19ms/step - loss: 0.7050 - accuracy: 0.5344 - val_loss: 0.7800 - val_accuracy: 0.2776\n",
            "Epoch 3/100\n",
            "157/157 [==============================] - 3s 20ms/step - loss: 0.7017 - accuracy: 0.5353 - val_loss: 0.7711 - val_accuracy: 0.2776\n",
            "Epoch 4/100\n",
            "157/157 [==============================] - 3s 19ms/step - loss: 0.7018 - accuracy: 0.5306 - val_loss: 0.7669 - val_accuracy: 0.2776\n",
            "Epoch 5/100\n",
            "157/157 [==============================] - 3s 19ms/step - loss: 0.7015 - accuracy: 0.5291 - val_loss: 0.7643 - val_accuracy: 0.2776\n",
            "Epoch 6/100\n",
            "157/157 [==============================] - 3s 19ms/step - loss: 0.7000 - accuracy: 0.5320 - val_loss: 0.7627 - val_accuracy: 0.2776\n",
            "Epoch 7/100\n",
            "157/157 [==============================] - 3s 20ms/step - loss: 0.7002 - accuracy: 0.5325 - val_loss: 0.7613 - val_accuracy: 0.2776\n",
            "Epoch 8/100\n",
            "157/157 [==============================] - 3s 19ms/step - loss: 0.7005 - accuracy: 0.5325 - val_loss: 0.7598 - val_accuracy: 0.2776\n",
            "Epoch 9/100\n",
            "157/157 [==============================] - 3s 19ms/step - loss: 0.6997 - accuracy: 0.5338 - val_loss: 0.7596 - val_accuracy: 0.2776\n",
            "Epoch 10/100\n",
            "157/157 [==============================] - 3s 20ms/step - loss: 0.6999 - accuracy: 0.5296 - val_loss: 0.7590 - val_accuracy: 0.2776\n",
            "Epoch 11/100\n",
            "157/157 [==============================] - 3s 20ms/step - loss: 0.7002 - accuracy: 0.5327 - val_loss: 0.7576 - val_accuracy: 0.2776\n",
            "Epoch 12/100\n",
            "157/157 [==============================] - 3s 19ms/step - loss: 0.6998 - accuracy: 0.5334 - val_loss: 0.7559 - val_accuracy: 0.2776\n",
            "Epoch 13/100\n",
            "157/157 [==============================] - 3s 19ms/step - loss: 0.6987 - accuracy: 0.5314 - val_loss: 0.7563 - val_accuracy: 0.2776\n",
            "Epoch 14/100\n",
            "157/157 [==============================] - 3s 20ms/step - loss: 0.6987 - accuracy: 0.5313 - val_loss: 0.7559 - val_accuracy: 0.2776\n",
            "Epoch 15/100\n",
            "157/157 [==============================] - 3s 19ms/step - loss: 0.7004 - accuracy: 0.5332 - val_loss: 0.7536 - val_accuracy: 0.2776\n",
            "Epoch 16/100\n",
            "157/157 [==============================] - 3s 19ms/step - loss: 0.6993 - accuracy: 0.5307 - val_loss: 0.7527 - val_accuracy: 0.2776\n",
            "Epoch 17/100\n",
            "157/157 [==============================] - 3s 20ms/step - loss: 0.6987 - accuracy: 0.5320 - val_loss: 0.7537 - val_accuracy: 0.2776\n",
            "Epoch 18/100\n",
            "157/157 [==============================] - 3s 19ms/step - loss: 0.6983 - accuracy: 0.5357 - val_loss: 0.7525 - val_accuracy: 0.2776\n",
            "Epoch 19/100\n",
            "157/157 [==============================] - 3s 19ms/step - loss: 0.6999 - accuracy: 0.5294 - val_loss: 0.7534 - val_accuracy: 0.2776\n",
            "Epoch 20/100\n",
            "157/157 [==============================] - 3s 19ms/step - loss: 0.6994 - accuracy: 0.5315 - val_loss: 0.7513 - val_accuracy: 0.2776\n",
            "Epoch 21/100\n",
            "157/157 [==============================] - 3s 20ms/step - loss: 0.6976 - accuracy: 0.5313 - val_loss: 0.7528 - val_accuracy: 0.2776\n",
            "Epoch 22/100\n",
            "157/157 [==============================] - 3s 20ms/step - loss: 0.6986 - accuracy: 0.5317 - val_loss: 0.7524 - val_accuracy: 0.2776\n",
            "Epoch 23/100\n",
            "157/157 [==============================] - 3s 19ms/step - loss: 0.6975 - accuracy: 0.5331 - val_loss: 0.7531 - val_accuracy: 0.2776\n",
            "Epoch 24/100\n",
            "157/157 [==============================] - 3s 19ms/step - loss: 0.6973 - accuracy: 0.5312 - val_loss: 0.7526 - val_accuracy: 0.2783\n",
            "Epoch 25/100\n",
            "157/157 [==============================] - 3s 19ms/step - loss: 0.6975 - accuracy: 0.5315 - val_loss: 0.7516 - val_accuracy: 0.2797\n",
            "Epoch 26/100\n",
            "157/157 [==============================] - 3s 19ms/step - loss: 0.6983 - accuracy: 0.5286 - val_loss: 0.7496 - val_accuracy: 0.2940\n",
            "Epoch 27/100\n",
            "157/157 [==============================] - 3s 19ms/step - loss: 0.6964 - accuracy: 0.5308 - val_loss: 0.7496 - val_accuracy: 0.2961\n",
            "Epoch 28/100\n",
            "157/157 [==============================] - 3s 19ms/step - loss: 0.6980 - accuracy: 0.5257 - val_loss: 0.7486 - val_accuracy: 0.3288\n",
            "Epoch 29/100\n",
            "157/157 [==============================] - 3s 19ms/step - loss: 0.6973 - accuracy: 0.5304 - val_loss: 0.7488 - val_accuracy: 0.3359\n",
            "Epoch 30/100\n",
            "157/157 [==============================] - 3s 19ms/step - loss: 0.6967 - accuracy: 0.5314 - val_loss: 0.7483 - val_accuracy: 0.3402\n",
            "Epoch 31/100\n",
            "157/157 [==============================] - 3s 20ms/step - loss: 0.6979 - accuracy: 0.5304 - val_loss: 0.7469 - val_accuracy: 0.3587\n",
            "Epoch 32/100\n",
            "157/157 [==============================] - 3s 19ms/step - loss: 0.6965 - accuracy: 0.5204 - val_loss: 0.7474 - val_accuracy: 0.3644\n",
            "Epoch 33/100\n",
            "157/157 [==============================] - 3s 19ms/step - loss: 0.6961 - accuracy: 0.5296 - val_loss: 0.7466 - val_accuracy: 0.3744\n",
            "Epoch 34/100\n",
            "157/157 [==============================] - 3s 19ms/step - loss: 0.6956 - accuracy: 0.5308 - val_loss: 0.7468 - val_accuracy: 0.3772\n",
            "Epoch 35/100\n",
            "157/157 [==============================] - 3s 19ms/step - loss: 0.6961 - accuracy: 0.5345 - val_loss: 0.7464 - val_accuracy: 0.3779\n",
            "Epoch 36/100\n",
            "157/157 [==============================] - 3s 19ms/step - loss: 0.6969 - accuracy: 0.5212 - val_loss: 0.7465 - val_accuracy: 0.3794\n",
            "Epoch 37/100\n",
            "157/157 [==============================] - 3s 19ms/step - loss: 0.6968 - accuracy: 0.5230 - val_loss: 0.7459 - val_accuracy: 0.3843\n",
            "Epoch 38/100\n",
            "157/157 [==============================] - 3s 20ms/step - loss: 0.6958 - accuracy: 0.5235 - val_loss: 0.7469 - val_accuracy: 0.3843\n",
            "Epoch 39/100\n",
            "157/157 [==============================] - 3s 20ms/step - loss: 0.6951 - accuracy: 0.5204 - val_loss: 0.7468 - val_accuracy: 0.3900\n",
            "Epoch 40/100\n",
            "157/157 [==============================] - 3s 20ms/step - loss: 0.6966 - accuracy: 0.5222 - val_loss: 0.7458 - val_accuracy: 0.3907\n",
            "Epoch 41/100\n",
            "157/157 [==============================] - 3s 20ms/step - loss: 0.6956 - accuracy: 0.5366 - val_loss: 0.7439 - val_accuracy: 0.3900\n",
            "Epoch 42/100\n",
            "157/157 [==============================] - 3s 19ms/step - loss: 0.6924 - accuracy: 0.5301 - val_loss: 0.7461 - val_accuracy: 0.3879\n",
            "Epoch 43/100\n",
            "157/157 [==============================] - 3s 20ms/step - loss: 0.6953 - accuracy: 0.5227 - val_loss: 0.7450 - val_accuracy: 0.3879\n",
            "Epoch 44/100\n",
            "157/157 [==============================] - 3s 20ms/step - loss: 0.6933 - accuracy: 0.5283 - val_loss: 0.7470 - val_accuracy: 0.3915\n",
            "Epoch 45/100\n",
            "157/157 [==============================] - 3s 20ms/step - loss: 0.6942 - accuracy: 0.5245 - val_loss: 0.7475 - val_accuracy: 0.3907\n",
            "Epoch 46/100\n",
            "157/157 [==============================] - 3s 19ms/step - loss: 0.6943 - accuracy: 0.5270 - val_loss: 0.7470 - val_accuracy: 0.3922\n",
            "Epoch 47/100\n",
            "157/157 [==============================] - 3s 19ms/step - loss: 0.6946 - accuracy: 0.5294 - val_loss: 0.7468 - val_accuracy: 0.3907\n",
            "Epoch 48/100\n",
            "157/157 [==============================] - 3s 19ms/step - loss: 0.6905 - accuracy: 0.5370 - val_loss: 0.7476 - val_accuracy: 0.3922\n",
            "Epoch 49/100\n",
            "157/157 [==============================] - 3s 22ms/step - loss: 0.6932 - accuracy: 0.5340 - val_loss: 0.7465 - val_accuracy: 0.3943\n",
            "Epoch 50/100\n",
            "157/157 [==============================] - 3s 20ms/step - loss: 0.6920 - accuracy: 0.5372 - val_loss: 0.7466 - val_accuracy: 0.3972\n",
            "Epoch 51/100\n",
            "157/157 [==============================] - 3s 19ms/step - loss: 0.6912 - accuracy: 0.5277 - val_loss: 0.7464 - val_accuracy: 0.3986\n",
            "Epoch 52/100\n",
            "157/157 [==============================] - 3s 19ms/step - loss: 0.6953 - accuracy: 0.5239 - val_loss: 0.7454 - val_accuracy: 0.3936\n",
            "Epoch 53/100\n",
            "157/157 [==============================] - 3s 19ms/step - loss: 0.6928 - accuracy: 0.5258 - val_loss: 0.7433 - val_accuracy: 0.4028\n",
            "Epoch 54/100\n",
            "157/157 [==============================] - 3s 20ms/step - loss: 0.6921 - accuracy: 0.5316 - val_loss: 0.7454 - val_accuracy: 0.4085\n",
            "Epoch 55/100\n",
            "157/157 [==============================] - 3s 19ms/step - loss: 0.6912 - accuracy: 0.5407 - val_loss: 0.7451 - val_accuracy: 0.3986\n",
            "Epoch 56/100\n",
            "157/157 [==============================] - 3s 20ms/step - loss: 0.6904 - accuracy: 0.5314 - val_loss: 0.7462 - val_accuracy: 0.3979\n",
            "Epoch 57/100\n",
            "157/157 [==============================] - 3s 19ms/step - loss: 0.6889 - accuracy: 0.5322 - val_loss: 0.7456 - val_accuracy: 0.4007\n",
            "Epoch 58/100\n",
            "157/157 [==============================] - 3s 19ms/step - loss: 0.6907 - accuracy: 0.5404 - val_loss: 0.7460 - val_accuracy: 0.3993\n",
            "Epoch 59/100\n",
            "157/157 [==============================] - 3s 20ms/step - loss: 0.6890 - accuracy: 0.5359 - val_loss: 0.7450 - val_accuracy: 0.4064\n",
            "Epoch 60/100\n",
            "157/157 [==============================] - 3s 20ms/step - loss: 0.6899 - accuracy: 0.5348 - val_loss: 0.7438 - val_accuracy: 0.3957\n",
            "Epoch 61/100\n",
            "157/157 [==============================] - 3s 20ms/step - loss: 0.6892 - accuracy: 0.5454 - val_loss: 0.7436 - val_accuracy: 0.4000\n",
            "Epoch 62/100\n",
            "157/157 [==============================] - 3s 20ms/step - loss: 0.6893 - accuracy: 0.5345 - val_loss: 0.7430 - val_accuracy: 0.4036\n",
            "Epoch 63/100\n",
            "157/157 [==============================] - 3s 20ms/step - loss: 0.6898 - accuracy: 0.5409 - val_loss: 0.7428 - val_accuracy: 0.4064\n",
            "Epoch 64/100\n",
            "157/157 [==============================] - 3s 20ms/step - loss: 0.6889 - accuracy: 0.5387 - val_loss: 0.7422 - val_accuracy: 0.4064\n",
            "Epoch 65/100\n",
            "157/157 [==============================] - 3s 20ms/step - loss: 0.6865 - accuracy: 0.5487 - val_loss: 0.7433 - val_accuracy: 0.4064\n",
            "Epoch 66/100\n",
            "157/157 [==============================] - 3s 20ms/step - loss: 0.6889 - accuracy: 0.5464 - val_loss: 0.7423 - val_accuracy: 0.4050\n",
            "Epoch 67/100\n",
            "157/157 [==============================] - 3s 19ms/step - loss: 0.6911 - accuracy: 0.5348 - val_loss: 0.7408 - val_accuracy: 0.4007\n",
            "Epoch 68/100\n",
            "157/157 [==============================] - 3s 19ms/step - loss: 0.6885 - accuracy: 0.5394 - val_loss: 0.7411 - val_accuracy: 0.4000\n",
            "Epoch 69/100\n",
            "157/157 [==============================] - 3s 19ms/step - loss: 0.6890 - accuracy: 0.5340 - val_loss: 0.7408 - val_accuracy: 0.4014\n",
            "Epoch 70/100\n",
            "157/157 [==============================] - 3s 19ms/step - loss: 0.6884 - accuracy: 0.5452 - val_loss: 0.7410 - val_accuracy: 0.4036\n",
            "Epoch 71/100\n",
            "157/157 [==============================] - 3s 19ms/step - loss: 0.6889 - accuracy: 0.5455 - val_loss: 0.7418 - val_accuracy: 0.4014\n",
            "Epoch 72/100\n",
            "157/157 [==============================] - 3s 19ms/step - loss: 0.6880 - accuracy: 0.5498 - val_loss: 0.7413 - val_accuracy: 0.4043\n",
            "Epoch 73/100\n",
            "157/157 [==============================] - 3s 20ms/step - loss: 0.6875 - accuracy: 0.5502 - val_loss: 0.7402 - val_accuracy: 0.4007\n",
            "Epoch 74/100\n",
            "157/157 [==============================] - 3s 20ms/step - loss: 0.6862 - accuracy: 0.5604 - val_loss: 0.7414 - val_accuracy: 0.4028\n",
            "Epoch 75/100\n",
            "157/157 [==============================] - 3s 19ms/step - loss: 0.6867 - accuracy: 0.5501 - val_loss: 0.7417 - val_accuracy: 0.4014\n",
            "Epoch 76/100\n",
            "157/157 [==============================] - 3s 19ms/step - loss: 0.6872 - accuracy: 0.5513 - val_loss: 0.7397 - val_accuracy: 0.4007\n",
            "Epoch 77/100\n",
            "157/157 [==============================] - 3s 19ms/step - loss: 0.6857 - accuracy: 0.5474 - val_loss: 0.7393 - val_accuracy: 0.4043\n",
            "Epoch 78/100\n",
            "157/157 [==============================] - 3s 19ms/step - loss: 0.6842 - accuracy: 0.5576 - val_loss: 0.7394 - val_accuracy: 0.4093\n",
            "Epoch 79/100\n",
            "157/157 [==============================] - 3s 20ms/step - loss: 0.6861 - accuracy: 0.5515 - val_loss: 0.7385 - val_accuracy: 0.4028\n",
            "Epoch 80/100\n",
            "157/157 [==============================] - 3s 20ms/step - loss: 0.6875 - accuracy: 0.5523 - val_loss: 0.7390 - val_accuracy: 0.3993\n",
            "Epoch 81/100\n",
            "157/157 [==============================] - 3s 20ms/step - loss: 0.6840 - accuracy: 0.5523 - val_loss: 0.7381 - val_accuracy: 0.4014\n",
            "Epoch 82/100\n",
            "157/157 [==============================] - 3s 20ms/step - loss: 0.6856 - accuracy: 0.5530 - val_loss: 0.7377 - val_accuracy: 0.4007\n",
            "Epoch 83/100\n",
            "157/157 [==============================] - 3s 20ms/step - loss: 0.6849 - accuracy: 0.5492 - val_loss: 0.7368 - val_accuracy: 0.3993\n",
            "Epoch 84/100\n",
            "157/157 [==============================] - 3s 19ms/step - loss: 0.6823 - accuracy: 0.5588 - val_loss: 0.7384 - val_accuracy: 0.4043\n",
            "Epoch 85/100\n",
            "157/157 [==============================] - 3s 20ms/step - loss: 0.6841 - accuracy: 0.5664 - val_loss: 0.7362 - val_accuracy: 0.4028\n",
            "Epoch 86/100\n",
            "157/157 [==============================] - 3s 20ms/step - loss: 0.6837 - accuracy: 0.5648 - val_loss: 0.7375 - val_accuracy: 0.4028\n",
            "Epoch 87/100\n",
            "157/157 [==============================] - 3s 19ms/step - loss: 0.6804 - accuracy: 0.5710 - val_loss: 0.7370 - val_accuracy: 0.4043\n",
            "Epoch 88/100\n",
            "157/157 [==============================] - 3s 20ms/step - loss: 0.6825 - accuracy: 0.5729 - val_loss: 0.7376 - val_accuracy: 0.3957\n",
            "Epoch 89/100\n",
            "157/157 [==============================] - 3s 20ms/step - loss: 0.6856 - accuracy: 0.5595 - val_loss: 0.7353 - val_accuracy: 0.4021\n",
            "Epoch 90/100\n",
            "157/157 [==============================] - 3s 20ms/step - loss: 0.6828 - accuracy: 0.5702 - val_loss: 0.7348 - val_accuracy: 0.4028\n",
            "Epoch 91/100\n",
            "157/157 [==============================] - 3s 19ms/step - loss: 0.6837 - accuracy: 0.5606 - val_loss: 0.7346 - val_accuracy: 0.4014\n",
            "Epoch 92/100\n",
            "157/157 [==============================] - 3s 19ms/step - loss: 0.6822 - accuracy: 0.5610 - val_loss: 0.7373 - val_accuracy: 0.4028\n",
            "Epoch 93/100\n",
            "157/157 [==============================] - 3s 19ms/step - loss: 0.6804 - accuracy: 0.5727 - val_loss: 0.7363 - val_accuracy: 0.4014\n",
            "Epoch 94/100\n",
            "157/157 [==============================] - 3s 20ms/step - loss: 0.6794 - accuracy: 0.5554 - val_loss: 0.7353 - val_accuracy: 0.3986\n",
            "Epoch 95/100\n",
            "157/157 [==============================] - 3s 19ms/step - loss: 0.6843 - accuracy: 0.5655 - val_loss: 0.7334 - val_accuracy: 0.3972\n",
            "Epoch 96/100\n",
            "157/157 [==============================] - 3s 20ms/step - loss: 0.6813 - accuracy: 0.5791 - val_loss: 0.7342 - val_accuracy: 0.3964\n",
            "Epoch 97/100\n",
            "157/157 [==============================] - 3s 19ms/step - loss: 0.6840 - accuracy: 0.5573 - val_loss: 0.7327 - val_accuracy: 0.3986\n",
            "Epoch 98/100\n",
            "157/157 [==============================] - 3s 20ms/step - loss: 0.6838 - accuracy: 0.5655 - val_loss: 0.7330 - val_accuracy: 0.3943\n",
            "Epoch 99/100\n",
            "157/157 [==============================] - 3s 19ms/step - loss: 0.6819 - accuracy: 0.5722 - val_loss: 0.7344 - val_accuracy: 0.3979\n",
            "Epoch 100/100\n",
            "157/157 [==============================] - 3s 20ms/step - loss: 0.6780 - accuracy: 0.5881 - val_loss: 0.7313 - val_accuracy: 0.3957\n"
          ]
        }
      ]
    },
    {
      "cell_type": "markdown",
      "source": [
        "We will train more"
      ],
      "metadata": {
        "id": "6GvQSDwjhy5l"
      }
    },
    {
      "cell_type": "code",
      "source": [
        "lr_schedule = tf.keras.callbacks.LearningRateScheduler(\n",
        "    lambda epoch: 1e-11 * 10**(epoch / 4))\n",
        "model.compile(optimizer=SGD(learning_rate=1e-11, momentum=0.9), loss=['binary_crossentropy'], metrics=['accuracy'])\n",
        "history2 = model.fit(train, epochs=25, callbacks=[lr_schedule])"
      ],
      "metadata": {
        "colab": {
          "base_uri": "https://localhost:8080/"
        },
        "id": "TZZJfRhnjktU",
        "outputId": "42eab0b7-61a9-4a09-c685-56c6e9885fda"
      },
      "execution_count": 37,
      "outputs": [
        {
          "output_type": "stream",
          "name": "stdout",
          "text": [
            "Epoch 1/25\n",
            "157/157 [==============================] - 9s 18ms/step - loss: 0.6791 - accuracy: 0.5726 - lr: 1.0000e-11\n",
            "Epoch 2/25\n",
            "157/157 [==============================] - 3s 17ms/step - loss: 0.6747 - accuracy: 0.5730 - lr: 1.7783e-11\n",
            "Epoch 3/25\n",
            "157/157 [==============================] - 3s 18ms/step - loss: 0.6753 - accuracy: 0.5693 - lr: 3.1623e-11\n",
            "Epoch 4/25\n",
            "157/157 [==============================] - 3s 18ms/step - loss: 0.6764 - accuracy: 0.5831 - lr: 5.6234e-11\n",
            "Epoch 5/25\n",
            "157/157 [==============================] - 3s 17ms/step - loss: 0.6757 - accuracy: 0.5749 - lr: 1.0000e-10\n",
            "Epoch 6/25\n",
            "157/157 [==============================] - 3s 18ms/step - loss: 0.6740 - accuracy: 0.5893 - lr: 1.7783e-10\n",
            "Epoch 7/25\n",
            "157/157 [==============================] - 3s 17ms/step - loss: 0.6761 - accuracy: 0.5810 - lr: 3.1623e-10\n",
            "Epoch 8/25\n",
            "157/157 [==============================] - 3s 17ms/step - loss: 0.6771 - accuracy: 0.5809 - lr: 5.6234e-10\n",
            "Epoch 9/25\n",
            "157/157 [==============================] - 3s 18ms/step - loss: 0.6725 - accuracy: 0.5855 - lr: 1.0000e-09\n",
            "Epoch 10/25\n",
            "157/157 [==============================] - 3s 18ms/step - loss: 0.6745 - accuracy: 0.5746 - lr: 1.7783e-09\n",
            "Epoch 11/25\n",
            "157/157 [==============================] - 3s 18ms/step - loss: 0.6793 - accuracy: 0.5797 - lr: 3.1623e-09\n",
            "Epoch 12/25\n",
            "157/157 [==============================] - 3s 18ms/step - loss: 0.6764 - accuracy: 0.5783 - lr: 5.6234e-09\n",
            "Epoch 13/25\n",
            "157/157 [==============================] - 3s 18ms/step - loss: 0.6770 - accuracy: 0.5740 - lr: 1.0000e-08\n",
            "Epoch 14/25\n",
            "157/157 [==============================] - 3s 18ms/step - loss: 0.6769 - accuracy: 0.5806 - lr: 1.7783e-08\n",
            "Epoch 15/25\n",
            "157/157 [==============================] - 3s 17ms/step - loss: 0.6779 - accuracy: 0.5742 - lr: 3.1623e-08\n",
            "Epoch 16/25\n",
            "157/157 [==============================] - 3s 18ms/step - loss: 0.6775 - accuracy: 0.5749 - lr: 5.6234e-08\n",
            "Epoch 17/25\n",
            "157/157 [==============================] - 3s 18ms/step - loss: 0.6757 - accuracy: 0.5850 - lr: 1.0000e-07\n",
            "Epoch 18/25\n",
            "157/157 [==============================] - 3s 17ms/step - loss: 0.6766 - accuracy: 0.5838 - lr: 1.7783e-07\n",
            "Epoch 19/25\n",
            "157/157 [==============================] - 3s 17ms/step - loss: 0.6763 - accuracy: 0.5726 - lr: 3.1623e-07\n",
            "Epoch 20/25\n",
            "157/157 [==============================] - 3s 18ms/step - loss: 0.6773 - accuracy: 0.5775 - lr: 5.6234e-07\n",
            "Epoch 21/25\n",
            "157/157 [==============================] - 3s 18ms/step - loss: 0.6766 - accuracy: 0.5777 - lr: 1.0000e-06\n",
            "Epoch 22/25\n",
            "157/157 [==============================] - 3s 17ms/step - loss: 0.6768 - accuracy: 0.5702 - lr: 1.7783e-06\n",
            "Epoch 23/25\n",
            "157/157 [==============================] - 3s 17ms/step - loss: 0.6772 - accuracy: 0.5736 - lr: 3.1623e-06\n",
            "Epoch 24/25\n",
            "157/157 [==============================] - 3s 18ms/step - loss: 0.6789 - accuracy: 0.5723 - lr: 5.6234e-06\n",
            "Epoch 25/25\n",
            "157/157 [==============================] - 3s 18ms/step - loss: 0.6750 - accuracy: 0.5935 - lr: 1.0000e-05\n"
          ]
        }
      ]
    },
    {
      "cell_type": "code",
      "source": [
        "plt.semilogx(history2.history[\"lr\"], history2.history[\"loss\"])\n",
        "plt.axis([1e-11, 1e-5, 0.65, 0.7])\n",
        "plt.show()"
      ],
      "metadata": {
        "colab": {
          "base_uri": "https://localhost:8080/",
          "height": 273
        },
        "id": "Os5PvikjmOKZ",
        "outputId": "aea2b5d3-6f81-4787-a092-a10e6db50030"
      },
      "execution_count": 40,
      "outputs": [
        {
          "output_type": "display_data",
          "data": {
            "text/plain": [
              "<Figure size 432x288 with 1 Axes>"
            ],
            "image/png": "[encoded data removed]"
          },
          "metadata": {
            "needs_background": "light"
          }
        }
      ]
    },
    {
      "cell_type": "code",
      "source": [
        "model.compile(optimizer=SGD(learning_rate=1e-9, momentum=0.9), loss=['binary_crossentropy'], metrics=['accuracy'])\n",
        "history2 = model.fit(train, epochs=100, validation_data=val)"
      ],
      "metadata": {
        "colab": {
          "base_uri": "https://localhost:8080/"
        },
        "id": "VoTzSnDnmVN5",
        "outputId": "a6a17489-23cf-44f1-f743-88a1aa86d2be"
      },
      "execution_count": 41,
      "outputs": [
        {
          "output_type": "stream",
          "name": "stdout",
          "text": [
            "Epoch 1/100\n",
            "157/157 [==============================] - 11s 27ms/step - loss: 0.6769 - accuracy: 0.5646 - val_loss: 0.7332 - val_accuracy: 0.3936\n",
            "Epoch 2/100\n",
            "157/157 [==============================] - 3s 19ms/step - loss: 0.6748 - accuracy: 0.5824 - val_loss: 0.7347 - val_accuracy: 0.3907\n",
            "Epoch 3/100\n",
            "157/157 [==============================] - 3s 19ms/step - loss: 0.6758 - accuracy: 0.5784 - val_loss: 0.7346 - val_accuracy: 0.3915\n",
            "Epoch 4/100\n",
            "157/157 [==============================] - 3s 19ms/step - loss: 0.6741 - accuracy: 0.5818 - val_loss: 0.7350 - val_accuracy: 0.3900\n",
            "Epoch 5/100\n",
            "157/157 [==============================] - 3s 19ms/step - loss: 0.6770 - accuracy: 0.5768 - val_loss: 0.7340 - val_accuracy: 0.3922\n",
            "Epoch 6/100\n",
            "157/157 [==============================] - 3s 19ms/step - loss: 0.6776 - accuracy: 0.5748 - val_loss: 0.7329 - val_accuracy: 0.3943\n",
            "Epoch 7/100\n",
            "157/157 [==============================] - 3s 20ms/step - loss: 0.6764 - accuracy: 0.5857 - val_loss: 0.7322 - val_accuracy: 0.3929\n",
            "Epoch 8/100\n",
            "157/157 [==============================] - 3s 19ms/step - loss: 0.6737 - accuracy: 0.5902 - val_loss: 0.7323 - val_accuracy: 0.3929\n",
            "Epoch 9/100\n",
            "157/157 [==============================] - 3s 19ms/step - loss: 0.6745 - accuracy: 0.5840 - val_loss: 0.7340 - val_accuracy: 0.3929\n",
            "Epoch 10/100\n",
            "157/157 [==============================] - 3s 19ms/step - loss: 0.6762 - accuracy: 0.5756 - val_loss: 0.7339 - val_accuracy: 0.3936\n",
            "Epoch 11/100\n",
            "157/157 [==============================] - 3s 20ms/step - loss: 0.6761 - accuracy: 0.5745 - val_loss: 0.7320 - val_accuracy: 0.3922\n",
            "Epoch 12/100\n",
            "157/157 [==============================] - 3s 19ms/step - loss: 0.6749 - accuracy: 0.5752 - val_loss: 0.7327 - val_accuracy: 0.3929\n",
            "Epoch 13/100\n",
            "157/157 [==============================] - 3s 19ms/step - loss: 0.6749 - accuracy: 0.5715 - val_loss: 0.7326 - val_accuracy: 0.3907\n",
            "Epoch 14/100\n",
            "157/157 [==============================] - 3s 19ms/step - loss: 0.6760 - accuracy: 0.5691 - val_loss: 0.7329 - val_accuracy: 0.3929\n",
            "Epoch 15/100\n",
            "157/157 [==============================] - 3s 19ms/step - loss: 0.6793 - accuracy: 0.5684 - val_loss: 0.7351 - val_accuracy: 0.3950\n",
            "Epoch 16/100\n",
            "157/157 [==============================] - 3s 19ms/step - loss: 0.6773 - accuracy: 0.5723 - val_loss: 0.7358 - val_accuracy: 0.3929\n",
            "Epoch 17/100\n",
            "157/157 [==============================] - 3s 19ms/step - loss: 0.6765 - accuracy: 0.5917 - val_loss: 0.7317 - val_accuracy: 0.3922\n",
            "Epoch 18/100\n",
            "157/157 [==============================] - 3s 20ms/step - loss: 0.6766 - accuracy: 0.5732 - val_loss: 0.7331 - val_accuracy: 0.3907\n",
            "Epoch 19/100\n",
            "157/157 [==============================] - 3s 20ms/step - loss: 0.6754 - accuracy: 0.5802 - val_loss: 0.7310 - val_accuracy: 0.3907\n",
            "Epoch 20/100\n",
            "157/157 [==============================] - 3s 20ms/step - loss: 0.6716 - accuracy: 0.5909 - val_loss: 0.7337 - val_accuracy: 0.3936\n",
            "Epoch 21/100\n",
            "157/157 [==============================] - 3s 19ms/step - loss: 0.6784 - accuracy: 0.5849 - val_loss: 0.7314 - val_accuracy: 0.3922\n",
            "Epoch 22/100\n",
            "157/157 [==============================] - 3s 19ms/step - loss: 0.6776 - accuracy: 0.5708 - val_loss: 0.7321 - val_accuracy: 0.3915\n",
            "Epoch 23/100\n",
            "157/157 [==============================] - 3s 19ms/step - loss: 0.6779 - accuracy: 0.5720 - val_loss: 0.7326 - val_accuracy: 0.3915\n",
            "Epoch 24/100\n",
            "157/157 [==============================] - 3s 19ms/step - loss: 0.6803 - accuracy: 0.5627 - val_loss: 0.7322 - val_accuracy: 0.3936\n",
            "Epoch 25/100\n",
            "157/157 [==============================] - 3s 19ms/step - loss: 0.6767 - accuracy: 0.5704 - val_loss: 0.7347 - val_accuracy: 0.3907\n",
            "Epoch 26/100\n",
            "157/157 [==============================] - 3s 19ms/step - loss: 0.6749 - accuracy: 0.5868 - val_loss: 0.7341 - val_accuracy: 0.3929\n",
            "Epoch 27/100\n",
            "157/157 [==============================] - 3s 20ms/step - loss: 0.6744 - accuracy: 0.5703 - val_loss: 0.7344 - val_accuracy: 0.3922\n",
            "Epoch 28/100\n",
            "157/157 [==============================] - 3s 19ms/step - loss: 0.6746 - accuracy: 0.5741 - val_loss: 0.7343 - val_accuracy: 0.3936\n",
            "Epoch 29/100\n",
            "157/157 [==============================] - 3s 19ms/step - loss: 0.6772 - accuracy: 0.5787 - val_loss: 0.7345 - val_accuracy: 0.3943\n",
            "Epoch 30/100\n",
            "157/157 [==============================] - 3s 20ms/step - loss: 0.6789 - accuracy: 0.5819 - val_loss: 0.7323 - val_accuracy: 0.3929\n",
            "Epoch 31/100\n",
            "157/157 [==============================] - 3s 20ms/step - loss: 0.6770 - accuracy: 0.5754 - val_loss: 0.7329 - val_accuracy: 0.3936\n",
            "Epoch 32/100\n",
            "157/157 [==============================] - 3s 19ms/step - loss: 0.6779 - accuracy: 0.5782 - val_loss: 0.7318 - val_accuracy: 0.3929\n",
            "Epoch 33/100\n",
            "157/157 [==============================] - 3s 19ms/step - loss: 0.6746 - accuracy: 0.5873 - val_loss: 0.7320 - val_accuracy: 0.3936\n",
            "Epoch 34/100\n",
            "157/157 [==============================] - 3s 19ms/step - loss: 0.6754 - accuracy: 0.5777 - val_loss: 0.7321 - val_accuracy: 0.3936\n",
            "Epoch 35/100\n",
            "157/157 [==============================] - 3s 19ms/step - loss: 0.6755 - accuracy: 0.5778 - val_loss: 0.7312 - val_accuracy: 0.3922\n",
            "Epoch 36/100\n",
            "157/157 [==============================] - 3s 19ms/step - loss: 0.6775 - accuracy: 0.5581 - val_loss: 0.7323 - val_accuracy: 0.3936\n",
            "Epoch 37/100\n",
            "157/157 [==============================] - 3s 19ms/step - loss: 0.6748 - accuracy: 0.5891 - val_loss: 0.7341 - val_accuracy: 0.3943\n",
            "Epoch 38/100\n",
            "157/157 [==============================] - 3s 19ms/step - loss: 0.6765 - accuracy: 0.5783 - val_loss: 0.7343 - val_accuracy: 0.3943\n",
            "Epoch 39/100\n",
            "157/157 [==============================] - 3s 20ms/step - loss: 0.6775 - accuracy: 0.5845 - val_loss: 0.7336 - val_accuracy: 0.3922\n",
            "Epoch 40/100\n",
            "157/157 [==============================] - 3s 19ms/step - loss: 0.6797 - accuracy: 0.5697 - val_loss: 0.7347 - val_accuracy: 0.3929\n",
            "Epoch 41/100\n",
            "157/157 [==============================] - 3s 19ms/step - loss: 0.6758 - accuracy: 0.5756 - val_loss: 0.7328 - val_accuracy: 0.3929\n",
            "Epoch 42/100\n",
            "157/157 [==============================] - 3s 19ms/step - loss: 0.6793 - accuracy: 0.5817 - val_loss: 0.7327 - val_accuracy: 0.3943\n",
            "Epoch 43/100\n",
            "157/157 [==============================] - 3s 19ms/step - loss: 0.6744 - accuracy: 0.5992 - val_loss: 0.7335 - val_accuracy: 0.3943\n",
            "Epoch 44/100\n",
            "157/157 [==============================] - 3s 19ms/step - loss: 0.6731 - accuracy: 0.5775 - val_loss: 0.7341 - val_accuracy: 0.3936\n",
            "Epoch 45/100\n",
            "157/157 [==============================] - 3s 19ms/step - loss: 0.6753 - accuracy: 0.5924 - val_loss: 0.7348 - val_accuracy: 0.3950\n",
            "Epoch 46/100\n",
            "157/157 [==============================] - 3s 19ms/step - loss: 0.6767 - accuracy: 0.5755 - val_loss: 0.7347 - val_accuracy: 0.3943\n",
            "Epoch 47/100\n",
            "157/157 [==============================] - 3s 19ms/step - loss: 0.6773 - accuracy: 0.5885 - val_loss: 0.7331 - val_accuracy: 0.3915\n",
            "Epoch 48/100\n",
            "157/157 [==============================] - 3s 19ms/step - loss: 0.6796 - accuracy: 0.5761 - val_loss: 0.7333 - val_accuracy: 0.3915\n",
            "Epoch 49/100\n",
            "157/157 [==============================] - 3s 19ms/step - loss: 0.6757 - accuracy: 0.5902 - val_loss: 0.7348 - val_accuracy: 0.3950\n",
            "Epoch 50/100\n",
            "157/157 [==============================] - 4s 24ms/step - loss: 0.6749 - accuracy: 0.5798 - val_loss: 0.7328 - val_accuracy: 0.3936\n",
            "Epoch 51/100\n",
            "157/157 [==============================] - 3s 20ms/step - loss: 0.6786 - accuracy: 0.5745 - val_loss: 0.7331 - val_accuracy: 0.3929\n",
            "Epoch 52/100\n",
            "157/157 [==============================] - 3s 19ms/step - loss: 0.6770 - accuracy: 0.5684 - val_loss: 0.7318 - val_accuracy: 0.3915\n",
            "Epoch 53/100\n",
            "157/157 [==============================] - 3s 19ms/step - loss: 0.6763 - accuracy: 0.5804 - val_loss: 0.7326 - val_accuracy: 0.3922\n",
            "Epoch 54/100\n",
            "157/157 [==============================] - 3s 19ms/step - loss: 0.6751 - accuracy: 0.5912 - val_loss: 0.7348 - val_accuracy: 0.3922\n",
            "Epoch 55/100\n",
            "157/157 [==============================] - 3s 19ms/step - loss: 0.6763 - accuracy: 0.5850 - val_loss: 0.7330 - val_accuracy: 0.3929\n",
            "Epoch 56/100\n",
            "157/157 [==============================] - 3s 19ms/step - loss: 0.6732 - accuracy: 0.5831 - val_loss: 0.7318 - val_accuracy: 0.3922\n",
            "Epoch 57/100\n",
            "157/157 [==============================] - 3s 20ms/step - loss: 0.6755 - accuracy: 0.5818 - val_loss: 0.7323 - val_accuracy: 0.3929\n",
            "Epoch 58/100\n",
            "157/157 [==============================] - 3s 20ms/step - loss: 0.6779 - accuracy: 0.5728 - val_loss: 0.7323 - val_accuracy: 0.3943\n",
            "Epoch 59/100\n",
            "157/157 [==============================] - 3s 20ms/step - loss: 0.6765 - accuracy: 0.5772 - val_loss: 0.7303 - val_accuracy: 0.3915\n",
            "Epoch 60/100\n",
            "157/157 [==============================] - 3s 20ms/step - loss: 0.6753 - accuracy: 0.5807 - val_loss: 0.7346 - val_accuracy: 0.3907\n",
            "Epoch 61/100\n",
            "157/157 [==============================] - 3s 19ms/step - loss: 0.6765 - accuracy: 0.5791 - val_loss: 0.7321 - val_accuracy: 0.3915\n",
            "Epoch 62/100\n",
            "157/157 [==============================] - 3s 20ms/step - loss: 0.6739 - accuracy: 0.5733 - val_loss: 0.7344 - val_accuracy: 0.3915\n",
            "Epoch 63/100\n",
            "157/157 [==============================] - 3s 19ms/step - loss: 0.6748 - accuracy: 0.5705 - val_loss: 0.7364 - val_accuracy: 0.3943\n",
            "Epoch 64/100\n",
            "157/157 [==============================] - 3s 19ms/step - loss: 0.6767 - accuracy: 0.5809 - val_loss: 0.7350 - val_accuracy: 0.3936\n",
            "Epoch 65/100\n",
            "157/157 [==============================] - 3s 20ms/step - loss: 0.6771 - accuracy: 0.5829 - val_loss: 0.7343 - val_accuracy: 0.3915\n",
            "Epoch 66/100\n",
            "157/157 [==============================] - 3s 20ms/step - loss: 0.6733 - accuracy: 0.5918 - val_loss: 0.7331 - val_accuracy: 0.3936\n",
            "Epoch 67/100\n",
            "157/157 [==============================] - 3s 20ms/step - loss: 0.6743 - accuracy: 0.5883 - val_loss: 0.7340 - val_accuracy: 0.3936\n",
            "Epoch 68/100\n",
            "157/157 [==============================] - 3s 19ms/step - loss: 0.6759 - accuracy: 0.5782 - val_loss: 0.7349 - val_accuracy: 0.3900\n",
            "Epoch 69/100\n",
            "157/157 [==============================] - 3s 20ms/step - loss: 0.6769 - accuracy: 0.5712 - val_loss: 0.7323 - val_accuracy: 0.3936\n",
            "Epoch 70/100\n",
            "157/157 [==============================] - 3s 20ms/step - loss: 0.6751 - accuracy: 0.5742 - val_loss: 0.7347 - val_accuracy: 0.3915\n",
            "Epoch 71/100\n",
            "157/157 [==============================] - 3s 19ms/step - loss: 0.6787 - accuracy: 0.5757 - val_loss: 0.7342 - val_accuracy: 0.3936\n",
            "Epoch 72/100\n",
            "157/157 [==============================] - 3s 19ms/step - loss: 0.6751 - accuracy: 0.5888 - val_loss: 0.7343 - val_accuracy: 0.3929\n",
            "Epoch 73/100\n",
            "157/157 [==============================] - 3s 19ms/step - loss: 0.6793 - accuracy: 0.5658 - val_loss: 0.7348 - val_accuracy: 0.3922\n",
            "Epoch 74/100\n",
            "157/157 [==============================] - 3s 19ms/step - loss: 0.6736 - accuracy: 0.5861 - val_loss: 0.7331 - val_accuracy: 0.3936\n",
            "Epoch 75/100\n",
            "157/157 [==============================] - 3s 20ms/step - loss: 0.6750 - accuracy: 0.5756 - val_loss: 0.7310 - val_accuracy: 0.3922\n",
            "Epoch 76/100\n",
            "157/157 [==============================] - 3s 20ms/step - loss: 0.6741 - accuracy: 0.5844 - val_loss: 0.7324 - val_accuracy: 0.3922\n",
            "Epoch 77/100\n",
            "157/157 [==============================] - 3s 20ms/step - loss: 0.6780 - accuracy: 0.5625 - val_loss: 0.7327 - val_accuracy: 0.3936\n",
            "Epoch 78/100\n",
            "157/157 [==============================] - 3s 20ms/step - loss: 0.6760 - accuracy: 0.5856 - val_loss: 0.7321 - val_accuracy: 0.3929\n",
            "Epoch 79/100\n",
            "157/157 [==============================] - 3s 20ms/step - loss: 0.6776 - accuracy: 0.5885 - val_loss: 0.7317 - val_accuracy: 0.3929\n",
            "Epoch 80/100\n",
            "157/157 [==============================] - 3s 20ms/step - loss: 0.6799 - accuracy: 0.5621 - val_loss: 0.7344 - val_accuracy: 0.3936\n",
            "Epoch 81/100\n",
            "157/157 [==============================] - 3s 19ms/step - loss: 0.6699 - accuracy: 0.5934 - val_loss: 0.7320 - val_accuracy: 0.3929\n",
            "Epoch 82/100\n",
            "157/157 [==============================] - 3s 20ms/step - loss: 0.6748 - accuracy: 0.5851 - val_loss: 0.7323 - val_accuracy: 0.3922\n",
            "Epoch 83/100\n",
            "157/157 [==============================] - 3s 20ms/step - loss: 0.6782 - accuracy: 0.5758 - val_loss: 0.7316 - val_accuracy: 0.3915\n",
            "Epoch 84/100\n",
            "157/157 [==============================] - 3s 19ms/step - loss: 0.6767 - accuracy: 0.5912 - val_loss: 0.7309 - val_accuracy: 0.3929\n",
            "Epoch 85/100\n",
            "157/157 [==============================] - 3s 20ms/step - loss: 0.6742 - accuracy: 0.5788 - val_loss: 0.7346 - val_accuracy: 0.3900\n",
            "Epoch 86/100\n",
            "157/157 [==============================] - 3s 20ms/step - loss: 0.6725 - accuracy: 0.5762 - val_loss: 0.7337 - val_accuracy: 0.3922\n",
            "Epoch 87/100\n",
            "157/157 [==============================] - 3s 20ms/step - loss: 0.6757 - accuracy: 0.5880 - val_loss: 0.7339 - val_accuracy: 0.3943\n",
            "Epoch 88/100\n",
            "157/157 [==============================] - 3s 20ms/step - loss: 0.6790 - accuracy: 0.5777 - val_loss: 0.7322 - val_accuracy: 0.3922\n",
            "Epoch 89/100\n",
            "157/157 [==============================] - 3s 20ms/step - loss: 0.6754 - accuracy: 0.5708 - val_loss: 0.7313 - val_accuracy: 0.3922\n",
            "Epoch 90/100\n",
            "157/157 [==============================] - 3s 19ms/step - loss: 0.6777 - accuracy: 0.5783 - val_loss: 0.7309 - val_accuracy: 0.3915\n",
            "Epoch 91/100\n",
            "157/157 [==============================] - 3s 19ms/step - loss: 0.6770 - accuracy: 0.5803 - val_loss: 0.7321 - val_accuracy: 0.3943\n",
            "Epoch 92/100\n",
            "157/157 [==============================] - 3s 20ms/step - loss: 0.6732 - accuracy: 0.5871 - val_loss: 0.7323 - val_accuracy: 0.3936\n",
            "Epoch 93/100\n",
            "157/157 [==============================] - 3s 19ms/step - loss: 0.6748 - accuracy: 0.5659 - val_loss: 0.7335 - val_accuracy: 0.3936\n",
            "Epoch 94/100\n",
            "157/157 [==============================] - 3s 19ms/step - loss: 0.6785 - accuracy: 0.5635 - val_loss: 0.7327 - val_accuracy: 0.3915\n",
            "Epoch 95/100\n",
            "157/157 [==============================] - 3s 19ms/step - loss: 0.6759 - accuracy: 0.5971 - val_loss: 0.7311 - val_accuracy: 0.3936\n",
            "Epoch 96/100\n",
            "157/157 [==============================] - 3s 19ms/step - loss: 0.6767 - accuracy: 0.5685 - val_loss: 0.7310 - val_accuracy: 0.3936\n",
            "Epoch 97/100\n",
            "157/157 [==============================] - 3s 20ms/step - loss: 0.6770 - accuracy: 0.5720 - val_loss: 0.7319 - val_accuracy: 0.3929\n",
            "Epoch 98/100\n",
            "157/157 [==============================] - 3s 19ms/step - loss: 0.6746 - accuracy: 0.5878 - val_loss: 0.7319 - val_accuracy: 0.3936\n",
            "Epoch 99/100\n",
            "157/157 [==============================] - 3s 19ms/step - loss: 0.6740 - accuracy: 0.5821 - val_loss: 0.7361 - val_accuracy: 0.3915\n",
            "Epoch 100/100\n",
            "157/157 [==============================] - 3s 20ms/step - loss: 0.6767 - accuracy: 0.5830 - val_loss: 0.7338 - val_accuracy: 0.3922\n"
          ]
        }
      ]
    },
    {
      "cell_type": "markdown",
      "source": [
        "# Evaluation"
      ],
      "metadata": {
        "id": "axfsrjGRgnQl"
      }
    },
    {
      "cell_type": "code",
      "source": [
        "plt.figure( dpi=160)\n",
        "\n",
        "plt.subplot(231)\n",
        "plt.title('Loss')\n",
        "plt.plot(history.history['loss'], label='train')\n",
        "plt.plot(history.history['val_loss'], label='val')\n",
        "plt.legend()\n",
        "\n",
        "plt.subplot(233)\n",
        "plt.title('Accuracy')\n",
        "plt.plot(history.history['accuracy'], label='train')\n",
        "plt.plot(history.history['val_accuracy'], label='val')\n",
        "plt.legend()\n",
        "plt.show()"
      ],
      "metadata": {
        "colab": {
          "base_uri": "https://localhost:8080/",
          "height": 337
        },
        "id": "aWD3D1qQQtBJ",
        "outputId": "387c8e1c-c42d-4486-e81e-50ea6a540506"
      },
      "execution_count": 34,
      "outputs": [
        {
          "output_type": "display_data",
          "data": {
            "text/plain": [
              "<Figure size 960x640 with 2 Axes>"
            ],
            "image/png": "[encoded data removed]"
          },
          "metadata": {
            "needs_background": "light"
          }
        }
      ]
    },
    {
      "cell_type": "code",
      "source": [
        "plt.figure( dpi=160)\n",
        "\n",
        "plt.subplot(231)\n",
        "plt.title('Loss')\n",
        "plt.plot(history2.history['loss'], label='train')\n",
        "plt.plot(history2.history['val_loss'], label='val')\n",
        "plt.legend()\n",
        "\n",
        "plt.subplot(233)\n",
        "plt.title('Accuracy')\n",
        "plt.plot(history2.history['accuracy'], label='train')\n",
        "plt.plot(history2.history['val_accuracy'], label='val')\n",
        "plt.legend()\n",
        "plt.show()"
      ],
      "metadata": {
        "colab": {
          "base_uri": "https://localhost:8080/",
          "height": 337
        },
        "id": "Mcpi8xVJh8H6",
        "outputId": "49137602-5713-4033-ef05-f3ed6179fa97"
      },
      "execution_count": 42,
      "outputs": [
        {
          "output_type": "display_data",
          "data": {
            "text/plain": [
              "<Figure size 960x640 with 2 Axes>"
            ],
            "image/png": "[encoded data removed]"
          },
          "metadata": {
            "needs_background": "light"
          }
        }
      ]
    },
    {
      "cell_type": "code",
      "source": [
        "y_hat = model.predict(test)"
      ],
      "metadata": {
        "colab": {
          "base_uri": "https://localhost:8080/"
        },
        "id": "eNKrjQT8Qtnu",
        "outputId": "12731cc9-a883-48f1-fed1-8f3d8512eb40"
      },
      "execution_count": 43,
      "outputs": [
        {
          "output_type": "stream",
          "name": "stdout",
          "text": [
            "11/11 [==============================] - 2s 19ms/step\n"
          ]
        }
      ]
    },
    {
      "cell_type": "code",
      "source": [
        "y_hat[y_hat>=0.5] = 1\n",
        "y_hat[y_hat<0.5] = 0"
      ],
      "metadata": {
        "id": "FSD_knW7Qw4Z"
      },
      "execution_count": 44,
      "outputs": []
    },
    {
      "cell_type": "code",
      "source": [
        "print('\\nFor Test Set')\n",
        "f1 = f1_score(y_test, y_hat, average='micro')\n",
        "print('F1 score: ' , f1)\n",
        "\n",
        "accuracy = accuracy_score(y_test, y_hat)\n",
        "print('Accuracy: ' , accuracy)\n",
        "\n",
        "precision = precision_score(y_test, y_hat, average='micro')\n",
        "print('Precision: ' , precision)\n",
        "\n",
        "recall = recall_score(y_test, y_hat, average='micro')\n",
        "print('Recall: ' , recall)\n",
        "\n",
        "matrix = ConfusionMatrixDisplay(confusion_matrix(y_test, y_hat))\n",
        "print('Confusion Matrix: \\n')\n",
        "matrix.plot()\n",
        "plt.show()"
      ],
      "metadata": {
        "colab": {
          "base_uri": "https://localhost:8080/",
          "height": 424
        },
        "id": "XulbXJXkQxTm",
        "outputId": "a19e6916-3fc5-4aa9-ad16-b66b4d67dcc9"
      },
      "execution_count": 45,
      "outputs": [
        {
          "output_type": "stream",
          "name": "stdout",
          "text": [
            "\n",
            "For Test Set\n",
            "F1 score:  0.5241820768136558\n",
            "Accuracy:  0.5241820768136558\n",
            "Precision:  0.5241820768136558\n",
            "Recall:  0.5241820768136558\n",
            "Confusion Matrix: \n",
            "\n"
          ]
        },
        {
          "output_type": "display_data",
          "data": {
            "text/plain": [
              "<Figure size 432x288 with 2 Axes>"
            ],
            "image/png": "[encoded data removed]"
          },
          "metadata": {
            "needs_background": "light"
          }
        }
      ]
    }
  ]
}