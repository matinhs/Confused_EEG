{
  "nbformat": 4,
  "nbformat_minor": 0,
  "metadata": {
    "colab": {
      "provenance": []
    },
    "kernelspec": {
      "name": "python3",
      "display_name": "Python 3"
    },
    "language_info": {
      "name": "python"
    },
    "accelerator": "GPU",
    "gpuClass": "standard"
  },
  "cells": [
    {
      "cell_type": "markdown",
      "source": [
        "# Importing the Libraries"
      ],
      "metadata": {
        "id": "yQNMjAmbgG9f"
      }
    },
    {
      "cell_type": "code",
      "source": [
        "import numpy as np\n",
        "import matplotlib.pyplot as plt\n",
        "import pandas as pd\n",
        "from sklearn.ensemble import AdaBoostClassifier\n",
        "from sklearn.linear_model import LogisticRegression\n",
        "from sklearn.metrics import precision_score, recall_score, f1_score, confusion_matrix, accuracy_score, ConfusionMatrixDisplay"
      ],
      "metadata": {
        "id": "S9aPB0JFgKG6"
      },
      "execution_count": 1,
      "outputs": []
    },
    {
      "cell_type": "markdown",
      "source": [
        "# Loading and Preprocessing the Data"
      ],
      "metadata": {
        "id": "INyy1qxxget0"
      }
    },
    {
      "cell_type": "code",
      "source": [
        "df=pd.read_csv('EEG_data.csv')\n",
        "data = pd.read_csv('demographic_info.csv')"
      ],
      "metadata": {
        "id": "2juu8GFEJfbX"
      },
      "execution_count": 2,
      "outputs": []
    },
    {
      "cell_type": "code",
      "source": [
        "data = data.rename(columns = {'subject ID': 'SubjectID'})\n",
        "df = df.merge(data,how = 'inner',on = 'SubjectID')\n",
        "df.head()"
      ],
      "metadata": {
        "colab": {
          "base_uri": "https://localhost:8080/",
          "height": 374
        },
        "id": "8lM63kN4JhFo",
        "outputId": "ec5152e0-fbeb-4a16-8f47-5bf2d90ea96b"
      },
      "execution_count": 3,
      "outputs": [
        {
          "output_type": "execute_result",
          "data": {
            "text/plain": [
              "   SubjectID  VideoID  Attention  Mediation    Raw      Delta     Theta  \\\n",
              "0        0.0      0.0       56.0       43.0  278.0   301963.0   90612.0   \n",
              "1        0.0      0.0       40.0       35.0  -50.0    73787.0   28083.0   \n",
              "2        0.0      0.0       47.0       48.0  101.0   758353.0  383745.0   \n",
              "3        0.0      0.0       47.0       57.0   -5.0  2012240.0  129350.0   \n",
              "4        0.0      0.0       44.0       53.0   -8.0  1005145.0  354328.0   \n",
              "\n",
              "     Alpha1   Alpha2    Beta1     Beta2   Gamma1   Gamma2  predefinedlabel  \\\n",
              "0   33735.0  23991.0  27946.0   45097.0  33228.0   8293.0              0.0   \n",
              "1    1439.0   2240.0   2746.0    3687.0   5293.0   2740.0              0.0   \n",
              "2  201999.0  62107.0  36293.0  130536.0  57243.0  25354.0              0.0   \n",
              "3   61236.0  17084.0  11488.0   62462.0  49960.0  33932.0              0.0   \n",
              "4   37102.0  88881.0  45307.0   99603.0  44790.0  29749.0              0.0   \n",
              "\n",
              "   user-definedlabeln   age    ethnicity  gender  \n",
              "0                 0.0    25  Han Chinese       M  \n",
              "1                 0.0    25  Han Chinese       M  \n",
              "2                 0.0    25  Han Chinese       M  \n",
              "3                 0.0    25  Han Chinese       M  \n",
              "4                 0.0    25  Han Chinese       M  "
            ],
            "text/html": [
              "\n",
              "  <div id=\"df-fd1a0e0e-50f4-4292-82e5-197ae52c2e75\">\n",
              "    <div class=\"colab-df-container\">\n",
              "      <div>\n",
              "<style scoped>\n",
              "    .dataframe tbody tr th:only-of-type {\n",
              "        vertical-align: middle;\n",
              "    }\n",
              "\n",
              "    .dataframe tbody tr th {\n",
              "        vertical-align: top;\n",
              "    }\n",
              "\n",
              "    .dataframe thead th {\n",
              "        text-align: right;\n",
              "    }\n",
              "</style>\n",
              "<table border=\"1\" class=\"dataframe\">\n",
              "  <thead>\n",
              "    <tr style=\"text-align: right;\">\n",
              "      <th></th>\n",
              "      <th>SubjectID</th>\n",
              "      <th>VideoID</th>\n",
              "      <th>Attention</th>\n",
              "      <th>Mediation</th>\n",
              "      <th>Raw</th>\n",
              "      <th>Delta</th>\n",
              "      <th>Theta</th>\n",
              "      <th>Alpha1</th>\n",
              "      <th>Alpha2</th>\n",
              "      <th>Beta1</th>\n",
              "      <th>Beta2</th>\n",
              "      <th>Gamma1</th>\n",
              "      <th>Gamma2</th>\n",
              "      <th>predefinedlabel</th>\n",
              "      <th>user-definedlabeln</th>\n",
              "      <th>age</th>\n",
              "      <th>ethnicity</th>\n",
              "      <th>gender</th>\n",
              "    </tr>\n",
              "  </thead>\n",
              "  <tbody>\n",
              "    <tr>\n",
              "      <th>0</th>\n",
              "      <td>0.0</td>\n",
              "      <td>0.0</td>\n",
              "      <td>56.0</td>\n",
              "      <td>43.0</td>\n",
              "      <td>278.0</td>\n",
              "      <td>301963.0</td>\n",
              "      <td>90612.0</td>\n",
              "      <td>33735.0</td>\n",
              "      <td>23991.0</td>\n",
              "      <td>27946.0</td>\n",
              "      <td>45097.0</td>\n",
              "      <td>33228.0</td>\n",
              "      <td>8293.0</td>\n",
              "      <td>0.0</td>\n",
              "      <td>0.0</td>\n",
              "      <td>25</td>\n",
              "      <td>Han Chinese</td>\n",
              "      <td>M</td>\n",
              "    </tr>\n",
              "    <tr>\n",
              "      <th>1</th>\n",
              "      <td>0.0</td>\n",
              "      <td>0.0</td>\n",
              "      <td>40.0</td>\n",
              "      <td>35.0</td>\n",
              "      <td>-50.0</td>\n",
              "      <td>73787.0</td>\n",
              "      <td>28083.0</td>\n",
              "      <td>1439.0</td>\n",
              "      <td>2240.0</td>\n",
              "      <td>2746.0</td>\n",
              "      <td>3687.0</td>\n",
              "      <td>5293.0</td>\n",
              "      <td>2740.0</td>\n",
              "      <td>0.0</td>\n",
              "      <td>0.0</td>\n",
              "      <td>25</td>\n",
              "      <td>Han Chinese</td>\n",
              "      <td>M</td>\n",
              "    </tr>\n",
              "    <tr>\n",
              "      <th>2</th>\n",
              "      <td>0.0</td>\n",
              "      <td>0.0</td>\n",
              "      <td>47.0</td>\n",
              "      <td>48.0</td>\n",
              "      <td>101.0</td>\n",
              "      <td>758353.0</td>\n",
              "      <td>383745.0</td>\n",
              "      <td>201999.0</td>\n",
              "      <td>62107.0</td>\n",
              "      <td>36293.0</td>\n",
              "      <td>130536.0</td>\n",
              "      <td>57243.0</td>\n",
              "      <td>25354.0</td>\n",
              "      <td>0.0</td>\n",
              "      <td>0.0</td>\n",
              "      <td>25</td>\n",
              "      <td>Han Chinese</td>\n",
              "      <td>M</td>\n",
              "    </tr>\n",
              "    <tr>\n",
              "      <th>3</th>\n",
              "      <td>0.0</td>\n",
              "      <td>0.0</td>\n",
              "      <td>47.0</td>\n",
              "      <td>57.0</td>\n",
              "      <td>-5.0</td>\n",
              "      <td>2012240.0</td>\n",
              "      <td>129350.0</td>\n",
              "      <td>61236.0</td>\n",
              "      <td>17084.0</td>\n",
              "      <td>11488.0</td>\n",
              "      <td>62462.0</td>\n",
              "      <td>49960.0</td>\n",
              "      <td>33932.0</td>\n",
              "      <td>0.0</td>\n",
              "      <td>0.0</td>\n",
              "      <td>25</td>\n",
              "      <td>Han Chinese</td>\n",
              "      <td>M</td>\n",
              "    </tr>\n",
              "    <tr>\n",
              "      <th>4</th>\n",
              "      <td>0.0</td>\n",
              "      <td>0.0</td>\n",
              "      <td>44.0</td>\n",
              "      <td>53.0</td>\n",
              "      <td>-8.0</td>\n",
              "      <td>1005145.0</td>\n",
              "      <td>354328.0</td>\n",
              "      <td>37102.0</td>\n",
              "      <td>88881.0</td>\n",
              "      <td>45307.0</td>\n",
              "      <td>99603.0</td>\n",
              "      <td>44790.0</td>\n",
              "      <td>29749.0</td>\n",
              "      <td>0.0</td>\n",
              "      <td>0.0</td>\n",
              "      <td>25</td>\n",
              "      <td>Han Chinese</td>\n",
              "      <td>M</td>\n",
              "    </tr>\n",
              "  </tbody>\n",
              "</table>\n",
              "</div>\n",
              "      <button class=\"colab-df-convert\" onclick=\"convertToInteractive('df-fd1a0e0e-50f4-4292-82e5-197ae52c2e75')\"\n",
              "              title=\"Convert this dataframe to an interactive table.\"\n",
              "              style=\"display:none;\">\n",
              "        \n",
              "  <svg xmlns=\"http://www.w3.org/2000/svg\" height=\"24px\"viewBox=\"0 0 24 24\"\n",
              "       width=\"24px\">\n",
              "    <path d=\"M0 0h24v24H0V0z\" fill=\"none\"/>\n",
              "    <path d=\"M18.56 5.44l.94 2.06.94-2.06 2.06-.94-2.06-.94-.94-2.06-.94 2.06-2.06.94zm-11 1L8.5 8.5l.94-2.06 2.06-.94-2.06-.94L8.5 2.5l-.94 2.06-2.06.94zm10 10l.94 2.06.94-2.06 2.06-.94-2.06-.94-.94-2.06-.94 2.06-2.06.94z\"/><path d=\"M17.41 7.96l-1.37-1.37c-.4-.4-.92-.59-1.43-.59-.52 0-1.04.2-1.43.59L10.3 9.45l-7.72 7.72c-.78.78-.78 2.05 0 2.83L4 21.41c.39.39.9.59 1.41.59.51 0 1.02-.2 1.41-.59l7.78-7.78 2.81-2.81c.8-.78.8-2.07 0-2.86zM5.41 20L4 18.59l7.72-7.72 1.47 1.35L5.41 20z\"/>\n",
              "  </svg>\n",
              "      </button>\n",
              "      \n",
              "  <style>\n",
              "    .colab-df-container {\n",
              "      display:flex;\n",
              "      flex-wrap:wrap;\n",
              "      gap: 12px;\n",
              "    }\n",
              "\n",
              "    .colab-df-convert {\n",
              "      background-color: #E8F0FE;\n",
              "      border: none;\n",
              "      border-radius: 50%;\n",
              "      cursor: pointer;\n",
              "      display: none;\n",
              "      fill: #1967D2;\n",
              "      height: 32px;\n",
              "      padding: 0 0 0 0;\n",
              "      width: 32px;\n",
              "    }\n",
              "\n",
              "    .colab-df-convert:hover {\n",
              "      background-color: #E2EBFA;\n",
              "      box-shadow: 0px 1px 2px rgba(60, 64, 67, 0.3), 0px 1px 3px 1px rgba(60, 64, 67, 0.15);\n",
              "      fill: #174EA6;\n",
              "    }\n",
              "\n",
              "    [theme=dark] .colab-df-convert {\n",
              "      background-color: #3B4455;\n",
              "      fill: #D2E3FC;\n",
              "    }\n",
              "\n",
              "    [theme=dark] .colab-df-convert:hover {\n",
              "      background-color: #434B5C;\n",
              "      box-shadow: 0px 1px 3px 1px rgba(0, 0, 0, 0.15);\n",
              "      filter: drop-shadow(0px 1px 2px rgba(0, 0, 0, 0.3));\n",
              "      fill: #FFFFFF;\n",
              "    }\n",
              "  </style>\n",
              "\n",
              "      <script>\n",
              "        const buttonEl =\n",
              "          document.querySelector('#df-fd1a0e0e-50f4-4292-82e5-197ae52c2e75 button.colab-df-convert');\n",
              "        buttonEl.style.display =\n",
              "          google.colab.kernel.accessAllowed ? 'block' : 'none';\n",
              "\n",
              "        async function convertToInteractive(key) {\n",
              "          const element = document.querySelector('#df-fd1a0e0e-50f4-4292-82e5-197ae52c2e75');\n",
              "          const dataTable =\n",
              "            await google.colab.kernel.invokeFunction('convertToInteractive',\n",
              "                                                     [key], {});\n",
              "          if (!dataTable) return;\n",
              "\n",
              "          const docLinkHtml = 'Like what you see? Visit the ' +\n",
              "            '<a target=\"_blank\" href=https://colab.research.google.com/notebooks/data_table.ipynb>data table notebook</a>'\n",
              "            + ' to learn more about interactive tables.';\n",
              "          element.innerHTML = '';\n",
              "          dataTable['output_type'] = 'display_data';\n",
              "          await google.colab.output.renderOutput(dataTable, element);\n",
              "          const docLink = document.createElement('div');\n",
              "          docLink.innerHTML = docLinkHtml;\n",
              "          element.appendChild(docLink);\n",
              "        }\n",
              "      </script>\n",
              "    </div>\n",
              "  </div>\n",
              "  "
            ]
          },
          "metadata": {},
          "execution_count": 3
        }
      ]
    },
    {
      "cell_type": "code",
      "source": [
        "Data = df.copy()"
      ],
      "metadata": {
        "id": "h91FhhqTKUWk"
      },
      "execution_count": 4,
      "outputs": []
    },
    {
      "cell_type": "code",
      "source": [
        "Data.pop('SubjectID')\n",
        "Data.pop('VideoID')\n",
        "Data.pop('predefinedlabel')\n",
        "Data.pop('user-definedlabeln')\n",
        "Data.pop(' age')\n",
        "Data.pop(' ethnicity')\n",
        "Data.pop(' gender')\n",
        "Data"
      ],
      "metadata": {
        "colab": {
          "base_uri": "https://localhost:8080/",
          "height": 424
        },
        "id": "ChF0-YNoKzVB",
        "outputId": "024e8d94-b210-4e1f-a068-fc54a8806fbc"
      },
      "execution_count": 5,
      "outputs": [
        {
          "output_type": "execute_result",
          "data": {
            "text/plain": [
              "       Attention  Mediation    Raw      Delta      Theta    Alpha1    Alpha2  \\\n",
              "0           56.0       43.0  278.0   301963.0    90612.0   33735.0   23991.0   \n",
              "1           40.0       35.0  -50.0    73787.0    28083.0    1439.0    2240.0   \n",
              "2           47.0       48.0  101.0   758353.0   383745.0  201999.0   62107.0   \n",
              "3           47.0       57.0   -5.0  2012240.0   129350.0   61236.0   17084.0   \n",
              "4           44.0       53.0   -8.0  1005145.0   354328.0   37102.0   88881.0   \n",
              "...          ...        ...    ...        ...        ...       ...       ...   \n",
              "12806       64.0       38.0  -39.0   127574.0     9951.0     709.0   21732.0   \n",
              "12807       61.0       35.0 -275.0   323061.0   797464.0  153171.0  145805.0   \n",
              "12808       60.0       29.0 -426.0   680989.0   154296.0   40068.0   39122.0   \n",
              "12809       60.0       29.0  -84.0   366269.0    27346.0   11444.0    9932.0   \n",
              "12810       64.0       29.0  -49.0  1164555.0  1184366.0   50014.0  124208.0   \n",
              "\n",
              "         Beta1     Beta2   Gamma1   Gamma2  \n",
              "0      27946.0   45097.0  33228.0   8293.0  \n",
              "1       2746.0    3687.0   5293.0   2740.0  \n",
              "2      36293.0  130536.0  57243.0  25354.0  \n",
              "3      11488.0   62462.0  49960.0  33932.0  \n",
              "4      45307.0   99603.0  44790.0  29749.0  \n",
              "...        ...       ...      ...      ...  \n",
              "12806   3872.0   39728.0   2598.0    960.0  \n",
              "12807  39829.0  571280.0  36574.0  10010.0  \n",
              "12808  10966.0   26975.0  20427.0   2024.0  \n",
              "12809   1939.0    3283.0  12323.0   1764.0  \n",
              "12810  10634.0  445383.0  22133.0   4482.0  \n",
              "\n",
              "[12811 rows x 11 columns]"
            ],
            "text/html": [
              "\n",
              "  <div id=\"df-03190d40-3e3d-4f45-be8f-cd1bfb39b7b9\">\n",
              "    <div class=\"colab-df-container\">\n",
              "      <div>\n",
              "<style scoped>\n",
              "    .dataframe tbody tr th:only-of-type {\n",
              "        vertical-align: middle;\n",
              "    }\n",
              "\n",
              "    .dataframe tbody tr th {\n",
              "        vertical-align: top;\n",
              "    }\n",
              "\n",
              "    .dataframe thead th {\n",
              "        text-align: right;\n",
              "    }\n",
              "</style>\n",
              "<table border=\"1\" class=\"dataframe\">\n",
              "  <thead>\n",
              "    <tr style=\"text-align: right;\">\n",
              "      <th></th>\n",
              "      <th>Attention</th>\n",
              "      <th>Mediation</th>\n",
              "      <th>Raw</th>\n",
              "      <th>Delta</th>\n",
              "      <th>Theta</th>\n",
              "      <th>Alpha1</th>\n",
              "      <th>Alpha2</th>\n",
              "      <th>Beta1</th>\n",
              "      <th>Beta2</th>\n",
              "      <th>Gamma1</th>\n",
              "      <th>Gamma2</th>\n",
              "    </tr>\n",
              "  </thead>\n",
              "  <tbody>\n",
              "    <tr>\n",
              "      <th>0</th>\n",
              "      <td>56.0</td>\n",
              "      <td>43.0</td>\n",
              "      <td>278.0</td>\n",
              "      <td>301963.0</td>\n",
              "      <td>90612.0</td>\n",
              "      <td>33735.0</td>\n",
              "      <td>23991.0</td>\n",
              "      <td>27946.0</td>\n",
              "      <td>45097.0</td>\n",
              "      <td>33228.0</td>\n",
              "      <td>8293.0</td>\n",
              "    </tr>\n",
              "    <tr>\n",
              "      <th>1</th>\n",
              "      <td>40.0</td>\n",
              "      <td>35.0</td>\n",
              "      <td>-50.0</td>\n",
              "      <td>73787.0</td>\n",
              "      <td>28083.0</td>\n",
              "      <td>1439.0</td>\n",
              "      <td>2240.0</td>\n",
              "      <td>2746.0</td>\n",
              "      <td>3687.0</td>\n",
              "      <td>5293.0</td>\n",
              "      <td>2740.0</td>\n",
              "    </tr>\n",
              "    <tr>\n",
              "      <th>2</th>\n",
              "      <td>47.0</td>\n",
              "      <td>48.0</td>\n",
              "      <td>101.0</td>\n",
              "      <td>758353.0</td>\n",
              "      <td>383745.0</td>\n",
              "      <td>201999.0</td>\n",
              "      <td>62107.0</td>\n",
              "      <td>36293.0</td>\n",
              "      <td>130536.0</td>\n",
              "      <td>57243.0</td>\n",
              "      <td>25354.0</td>\n",
              "    </tr>\n",
              "    <tr>\n",
              "      <th>3</th>\n",
              "      <td>47.0</td>\n",
              "      <td>57.0</td>\n",
              "      <td>-5.0</td>\n",
              "      <td>2012240.0</td>\n",
              "      <td>129350.0</td>\n",
              "      <td>61236.0</td>\n",
              "      <td>17084.0</td>\n",
              "      <td>11488.0</td>\n",
              "      <td>62462.0</td>\n",
              "      <td>49960.0</td>\n",
              "      <td>33932.0</td>\n",
              "    </tr>\n",
              "    <tr>\n",
              "      <th>4</th>\n",
              "      <td>44.0</td>\n",
              "      <td>53.0</td>\n",
              "      <td>-8.0</td>\n",
              "      <td>1005145.0</td>\n",
              "      <td>354328.0</td>\n",
              "      <td>37102.0</td>\n",
              "      <td>88881.0</td>\n",
              "      <td>45307.0</td>\n",
              "      <td>99603.0</td>\n",
              "      <td>44790.0</td>\n",
              "      <td>29749.0</td>\n",
              "    </tr>\n",
              "    <tr>\n",
              "      <th>...</th>\n",
              "      <td>...</td>\n",
              "      <td>...</td>\n",
              "      <td>...</td>\n",
              "      <td>...</td>\n",
              "      <td>...</td>\n",
              "      <td>...</td>\n",
              "      <td>...</td>\n",
              "      <td>...</td>\n",
              "      <td>...</td>\n",
              "      <td>...</td>\n",
              "      <td>...</td>\n",
              "    </tr>\n",
              "    <tr>\n",
              "      <th>12806</th>\n",
              "      <td>64.0</td>\n",
              "      <td>38.0</td>\n",
              "      <td>-39.0</td>\n",
              "      <td>127574.0</td>\n",
              "      <td>9951.0</td>\n",
              "      <td>709.0</td>\n",
              "      <td>21732.0</td>\n",
              "      <td>3872.0</td>\n",
              "      <td>39728.0</td>\n",
              "      <td>2598.0</td>\n",
              "      <td>960.0</td>\n",
              "    </tr>\n",
              "    <tr>\n",
              "      <th>12807</th>\n",
              "      <td>61.0</td>\n",
              "      <td>35.0</td>\n",
              "      <td>-275.0</td>\n",
              "      <td>323061.0</td>\n",
              "      <td>797464.0</td>\n",
              "      <td>153171.0</td>\n",
              "      <td>145805.0</td>\n",
              "      <td>39829.0</td>\n",
              "      <td>571280.0</td>\n",
              "      <td>36574.0</td>\n",
              "      <td>10010.0</td>\n",
              "    </tr>\n",
              "    <tr>\n",
              "      <th>12808</th>\n",
              "      <td>60.0</td>\n",
              "      <td>29.0</td>\n",
              "      <td>-426.0</td>\n",
              "      <td>680989.0</td>\n",
              "      <td>154296.0</td>\n",
              "      <td>40068.0</td>\n",
              "      <td>39122.0</td>\n",
              "      <td>10966.0</td>\n",
              "      <td>26975.0</td>\n",
              "      <td>20427.0</td>\n",
              "      <td>2024.0</td>\n",
              "    </tr>\n",
              "    <tr>\n",
              "      <th>12809</th>\n",
              "      <td>60.0</td>\n",
              "      <td>29.0</td>\n",
              "      <td>-84.0</td>\n",
              "      <td>366269.0</td>\n",
              "      <td>27346.0</td>\n",
              "      <td>11444.0</td>\n",
              "      <td>9932.0</td>\n",
              "      <td>1939.0</td>\n",
              "      <td>3283.0</td>\n",
              "      <td>12323.0</td>\n",
              "      <td>1764.0</td>\n",
              "    </tr>\n",
              "    <tr>\n",
              "      <th>12810</th>\n",
              "      <td>64.0</td>\n",
              "      <td>29.0</td>\n",
              "      <td>-49.0</td>\n",
              "      <td>1164555.0</td>\n",
              "      <td>1184366.0</td>\n",
              "      <td>50014.0</td>\n",
              "      <td>124208.0</td>\n",
              "      <td>10634.0</td>\n",
              "      <td>445383.0</td>\n",
              "      <td>22133.0</td>\n",
              "      <td>4482.0</td>\n",
              "    </tr>\n",
              "  </tbody>\n",
              "</table>\n",
              "<p>12811 rows × 11 columns</p>\n",
              "</div>\n",
              "      <button class=\"colab-df-convert\" onclick=\"convertToInteractive('df-03190d40-3e3d-4f45-be8f-cd1bfb39b7b9')\"\n",
              "              title=\"Convert this dataframe to an interactive table.\"\n",
              "              style=\"display:none;\">\n",
              "        \n",
              "  <svg xmlns=\"http://www.w3.org/2000/svg\" height=\"24px\"viewBox=\"0 0 24 24\"\n",
              "       width=\"24px\">\n",
              "    <path d=\"M0 0h24v24H0V0z\" fill=\"none\"/>\n",
              "    <path d=\"M18.56 5.44l.94 2.06.94-2.06 2.06-.94-2.06-.94-.94-2.06-.94 2.06-2.06.94zm-11 1L8.5 8.5l.94-2.06 2.06-.94-2.06-.94L8.5 2.5l-.94 2.06-2.06.94zm10 10l.94 2.06.94-2.06 2.06-.94-2.06-.94-.94-2.06-.94 2.06-2.06.94z\"/><path d=\"M17.41 7.96l-1.37-1.37c-.4-.4-.92-.59-1.43-.59-.52 0-1.04.2-1.43.59L10.3 9.45l-7.72 7.72c-.78.78-.78 2.05 0 2.83L4 21.41c.39.39.9.59 1.41.59.51 0 1.02-.2 1.41-.59l7.78-7.78 2.81-2.81c.8-.78.8-2.07 0-2.86zM5.41 20L4 18.59l7.72-7.72 1.47 1.35L5.41 20z\"/>\n",
              "  </svg>\n",
              "      </button>\n",
              "      \n",
              "  <style>\n",
              "    .colab-df-container {\n",
              "      display:flex;\n",
              "      flex-wrap:wrap;\n",
              "      gap: 12px;\n",
              "    }\n",
              "\n",
              "    .colab-df-convert {\n",
              "      background-color: #E8F0FE;\n",
              "      border: none;\n",
              "      border-radius: 50%;\n",
              "      cursor: pointer;\n",
              "      display: none;\n",
              "      fill: #1967D2;\n",
              "      height: 32px;\n",
              "      padding: 0 0 0 0;\n",
              "      width: 32px;\n",
              "    }\n",
              "\n",
              "    .colab-df-convert:hover {\n",
              "      background-color: #E2EBFA;\n",
              "      box-shadow: 0px 1px 2px rgba(60, 64, 67, 0.3), 0px 1px 3px 1px rgba(60, 64, 67, 0.15);\n",
              "      fill: #174EA6;\n",
              "    }\n",
              "\n",
              "    [theme=dark] .colab-df-convert {\n",
              "      background-color: #3B4455;\n",
              "      fill: #D2E3FC;\n",
              "    }\n",
              "\n",
              "    [theme=dark] .colab-df-convert:hover {\n",
              "      background-color: #434B5C;\n",
              "      box-shadow: 0px 1px 3px 1px rgba(0, 0, 0, 0.15);\n",
              "      filter: drop-shadow(0px 1px 2px rgba(0, 0, 0, 0.3));\n",
              "      fill: #FFFFFF;\n",
              "    }\n",
              "  </style>\n",
              "\n",
              "      <script>\n",
              "        const buttonEl =\n",
              "          document.querySelector('#df-03190d40-3e3d-4f45-be8f-cd1bfb39b7b9 button.colab-df-convert');\n",
              "        buttonEl.style.display =\n",
              "          google.colab.kernel.accessAllowed ? 'block' : 'none';\n",
              "\n",
              "        async function convertToInteractive(key) {\n",
              "          const element = document.querySelector('#df-03190d40-3e3d-4f45-be8f-cd1bfb39b7b9');\n",
              "          const dataTable =\n",
              "            await google.colab.kernel.invokeFunction('convertToInteractive',\n",
              "                                                     [key], {});\n",
              "          if (!dataTable) return;\n",
              "\n",
              "          const docLinkHtml = 'Like what you see? Visit the ' +\n",
              "            '<a target=\"_blank\" href=https://colab.research.google.com/notebooks/data_table.ipynb>data table notebook</a>'\n",
              "            + ' to learn more about interactive tables.';\n",
              "          element.innerHTML = '';\n",
              "          dataTable['output_type'] = 'display_data';\n",
              "          await google.colab.output.renderOutput(dataTable, element);\n",
              "          const docLink = document.createElement('div');\n",
              "          docLink.innerHTML = docLinkHtml;\n",
              "          element.appendChild(docLink);\n",
              "        }\n",
              "      </script>\n",
              "    </div>\n",
              "  </div>\n",
              "  "
            ]
          },
          "metadata": {},
          "execution_count": 5
        }
      ]
    },
    {
      "cell_type": "markdown",
      "source": [
        "Normalizing"
      ],
      "metadata": {
        "id": "tkhI63TeolHy"
      }
    },
    {
      "cell_type": "code",
      "source": [
        "Data[\"Attention\"] = Data[\"Attention\"] / Data[\"Attention\"].abs().max()\n",
        "Data[\"Mediation\"] = Data[\"Mediation\"] / Data[\"Mediation\"].abs().max()\n",
        "Data[\"Raw\"] = Data[\"Raw\"] / Data[\"Raw\"].abs().max()"
      ],
      "metadata": {
        "id": "p0ND7_dcLnSb"
      },
      "execution_count": 6,
      "outputs": []
    },
    {
      "cell_type": "code",
      "source": [
        "x = np.array(Data)\n",
        "y = np.array(df['user-definedlabeln'])"
      ],
      "metadata": {
        "id": "gf4a043fLd-_"
      },
      "execution_count": 7,
      "outputs": []
    },
    {
      "cell_type": "markdown",
      "source": [
        "Splitting"
      ],
      "metadata": {
        "id": "2K5T-iEzomxq"
      }
    },
    {
      "cell_type": "code",
      "source": [
        "x_train = x[:10000, :]\n",
        "y_train = y[:10000]\n",
        "x_test = x[10000:, :]\n",
        "y_test = y[10000:]"
      ],
      "metadata": {
        "id": "3GgBGHxdLlqU"
      },
      "execution_count": 8,
      "outputs": []
    },
    {
      "cell_type": "markdown",
      "source": [
        "# Implementing the Model and Training"
      ],
      "metadata": {
        "id": "oy0Q_4IcgkDf"
      }
    },
    {
      "cell_type": "code",
      "source": [
        "base = LogisticRegression()\n",
        "Model = AdaBoostClassifier(base_estimator=base, n_estimators=2000, learning_rate=0.0001)"
      ],
      "metadata": {
        "id": "uBVuKHNGNQB4"
      },
      "execution_count": 14,
      "outputs": []
    },
    {
      "cell_type": "code",
      "source": [
        "Model.fit(x_train, y_train)"
      ],
      "metadata": {
        "colab": {
          "base_uri": "https://localhost:8080/"
        },
        "id": "f8bLpVO_7SnG",
        "outputId": "378c3543-00b1-4522-9fe2-fc69c386a415"
      },
      "execution_count": 15,
      "outputs": [
        {
          "output_type": "execute_result",
          "data": {
            "text/plain": [
              "AdaBoostClassifier(base_estimator=LogisticRegression(), learning_rate=0.0001,\n",
              "                   n_estimators=2000)"
            ]
          },
          "metadata": {},
          "execution_count": 15
        }
      ]
    },
    {
      "cell_type": "markdown",
      "source": [
        "# Evaluation"
      ],
      "metadata": {
        "id": "axfsrjGRgnQl"
      }
    },
    {
      "cell_type": "code",
      "source": [
        "y_hat = Model.predict(x_test)\n",
        "y_hat2 = Model.predict(x_train)"
      ],
      "metadata": {
        "id": "eNKrjQT8Qtnu"
      },
      "execution_count": 16,
      "outputs": []
    },
    {
      "cell_type": "code",
      "source": [
        "print('\\nFor Test Set')\n",
        "f1 = f1_score(y_test, y_hat, average='micro')\n",
        "print('F1 score: ' , f1)\n",
        "\n",
        "accuracy = accuracy_score(y_test, y_hat)\n",
        "print('Accuracy: ' , accuracy)\n",
        "\n",
        "precision = precision_score(y_test, y_hat, average='micro')\n",
        "print('Precision: ' , precision)\n",
        "\n",
        "recall = recall_score(y_test, y_hat, average='micro')\n",
        "print('Recall: ' , recall)\n",
        "\n",
        "matrix = ConfusionMatrixDisplay(confusion_matrix(y_test, y_hat))\n",
        "print('Confusion Matrix: \\n')\n",
        "matrix.plot()\n",
        "plt.show()\n",
        "\n",
        "print('\\nFor Train Set')\n",
        "f1 = f1_score(y_train, y_hat2)\n",
        "print('F1 score: ' , f1)\n",
        "\n",
        "accuracy = accuracy_score(y_train, y_hat2)\n",
        "print('Accuracy: ' , accuracy)\n",
        "\n",
        "precision = precision_score(y_train, y_hat2)\n",
        "print('Precision: ' , precision)\n",
        "\n",
        "recall = recall_score(y_train, y_hat2)\n",
        "print('Recall: ' , recall)\n",
        "\n",
        "matrix =  ConfusionMatrixDisplay(confusion_matrix(y_train, y_hat2))\n",
        "print('Confusion Matrix: \\n')\n",
        "matrix.plot()\n",
        "plt.show()"
      ],
      "metadata": {
        "colab": {
          "base_uri": "https://localhost:8080/",
          "height": 831
        },
        "id": "XulbXJXkQxTm",
        "outputId": "2740e8c3-39f7-4a37-98c3-2c9dbd472b34"
      },
      "execution_count": 17,
      "outputs": [
        {
          "output_type": "stream",
          "name": "stdout",
          "text": [
            "\n",
            "For Test Set\n",
            "F1 score:  0.43898968338669514\n",
            "Accuracy:  0.43898968338669514\n",
            "Precision:  0.43898968338669514\n",
            "Recall:  0.43898968338669514\n",
            "Confusion Matrix: \n",
            "\n"
          ]
        },
        {
          "output_type": "display_data",
          "data": {
            "text/plain": [
              "<Figure size 432x288 with 2 Axes>"
            ],
            "image/png": "[encoded data removed]"
          },
          "metadata": {
            "needs_background": "light"
          }
        },
        {
          "output_type": "stream",
          "name": "stdout",
          "text": [
            "\n",
            "For Train Set\n",
            "F1 score:  0.693243810323122\n",
            "Accuracy:  0.5614\n",
            "Precision:  0.5571669477234401\n",
            "Recall:  0.9172681843420322\n",
            "Confusion Matrix: \n",
            "\n"
          ]
        },
        {
          "output_type": "display_data",
          "data": {
            "text/plain": [
              "<Figure size 432x288 with 2 Axes>"
            ],
            "image/png": "[encoded data removed]"
          },
          "metadata": {
            "needs_background": "light"
          }
        }
      ]
    }
  ]
}